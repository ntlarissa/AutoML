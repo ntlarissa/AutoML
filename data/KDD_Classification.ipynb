{
 "cells": [
  {
   "cell_type": "code",
   "execution_count": 1,
   "metadata": {},
   "outputs": [
    {
     "name": "stdout",
     "output_type": "stream",
     "text": [
      "classification_CV.ipynb    kmeans.ipynb\r\n",
      "classification.ipynb       NUSW-NB15_features.csv\r\n",
      "KDD_Classification.ipynb   UNSW-NB15.csv\r\n",
      "kddcup_corrected.csv       UNSW_NB15_testing-set.csv\r\n",
      "kddcup.data.corrected.csv  UNSW_NB15_training-set.csv\r\n",
      "KDDTrain+.csv              UNSW_NB15_training-set_selected.csv\r\n"
     ]
    }
   ],
   "source": [
    "ls"
   ]
  },
  {
   "cell_type": "code",
   "execution_count": 15,
   "metadata": {},
   "outputs": [],
   "source": [
    "import pandas as pd\n",
    "import numpy as np\n",
    "import sklearn.metrics as sm\n",
    "import matplotlib.pyplot as plt\n",
    "from sklearn.cluster import KMeans\n",
    "from collections import Counter\n",
    "from sklearn.decomposition import PCA\n",
    "from sklearn.preprocessing import LabelEncoder,StandardScaler\n",
    "from mpl_toolkits.mplot3d import Axes3D\n",
    "from sklearn import metrics\n",
    "from sklearn.model_selection import train_test_split\n",
    "import time"
   ]
  },
  {
   "cell_type": "code",
   "execution_count": 19,
   "metadata": {},
   "outputs": [
    {
     "name": "stdout",
     "output_type": "stream",
     "text": [
      "Counter({'DOS': 229855, 'Normal': 60593, 'R2L': 16345, 'Probe': 4166, 'U2R': 70})\n"
     ]
    }
   ],
   "source": [
    "def train_split(data):\n",
    "    X_train=data.drop(['class.'], axis=1)\n",
    "    y_train=data['class.']\n",
    "    return X_train,y_train\n",
    "\n",
    "data_train = pd.read_csv('./kddcup_corrected.csv')\n",
    "data_train.replace({'smurf.': 'DOS', 'normal.': 'Normal', 'neptune.': 'DOS', 'snmpgetattack.': 'R2L',\n",
    "                    'mailbomb.': 'DOS', 'guess_passwd.': 'R2L', 'snmpguess.': 'R2L', 'satan.': 'Probe',\n",
    "                    'warezmaster.': 'R2L', 'back.': 'DOS', 'mscan.': 'Probe', 'apache2.': 'DOS', 'processtable.': 'DOS', \n",
    "                    'saint.': 'Probe', 'portsweep.': 'Probe', 'ipsweep.': 'Probe', 'httptunnel.': 'R2L', 'pod.': 'DOS', \n",
    "                    'nmap.': 'Probe', 'buffer_overflow.': 'U2R', 'multihop.': 'R2L', 'named.': 'R2L', 'sendmail.': 'R2L',\n",
    "                    'ps.': 'U2R', 'xterm.': 'U2R', 'rootkit.': 'U2R', 'teardrop.': 'DOS', 'xlock.': 'R2L', 'land.': 'DOS',\n",
    "                    'xsnoop.': 'R2L', 'ftp_write.': 'R2L', 'phf.': 'R2L', 'udpstorm.': 'DOS', 'perl.': 'U2R', \n",
    "                    'loadmodule.': 'U2R', 'worm.': 'DOS', 'sqlattack.': 'U2R', 'imap.': 'R2L'}, inplace=True)\n",
    "\n",
    "X_train,Y_train = train_split(data_train)\n",
    "\n",
    "print(Counter(Y_train))"
   ]
  },
  {
   "cell_type": "code",
   "execution_count": 20,
   "metadata": {},
   "outputs": [
    {
     "name": "stdout",
     "output_type": "stream",
     "text": [
      "(311029, 79)\n",
      "(311029, 38)\n",
      "(311029, 117)\n"
     ]
    }
   ],
   "source": [
    "from sklearn.preprocessing import OneHotEncoder\n",
    "\n",
    "X1 = X_train.select_dtypes(include=['object'])\n",
    "ohe = OneHotEncoder()\n",
    "X1_ohe = pd.DataFrame(ohe.fit_transform(X1).toarray())\n",
    "\n",
    "print(X1_ohe.shape)\n",
    "\n",
    "X2 = X_train.select_dtypes(exclude=['object'])\n",
    "sc = StandardScaler()\n",
    "X2_sc = pd.DataFrame(sc.fit_transform(X2))\n",
    "print(X2_sc.shape)\n",
    "\n",
    "X_train_sc1 = pd.concat([X1_ohe,X2_sc], axis=1, sort=False)\n",
    "print(X_train_sc1.shape)"
   ]
  },
  {
   "cell_type": "code",
   "execution_count": 21,
   "metadata": {},
   "outputs": [
    {
     "name": "stdout",
     "output_type": "stream",
     "text": [
      "['DOS' 'Normal' 'Probe' 'R2L' 'U2R']\n",
      "[0 1 2 3 4]\n",
      "Counter({0: 207011, 1: 54482, 3: 14646, 2: 3723, 4: 64})\n",
      "Counter({0: 22844, 1: 6111, 3: 1699, 2: 443, 4: 6})\n"
     ]
    }
   ],
   "source": [
    "#instanciation\n",
    "sc = StandardScaler()\n",
    "\n",
    "encoder = LabelEncoder()\n",
    "Y_train_1 = encoder.fit_transform(Y_train)\n",
    "print(encoder.classes_)\n",
    "print(encoder.transform(encoder.classes_))\n",
    "\n",
    "X_train_sc, X_test_sc, Y_train_en, Y_test_en = train_test_split(X_train_sc1, Y_train_1, test_size=0.1)\n",
    "print(Counter(Y_train_en))\n",
    "print(Counter(Y_test_en))"
   ]
  },
  {
   "cell_type": "code",
   "execution_count": 22,
   "metadata": {},
   "outputs": [
    {
     "name": "stdout",
     "output_type": "stream",
     "text": [
      "train accuracy:  0.9816558661932082\n",
      "test accuracy:  0.9807092563418319\n",
      "test precision:  [0.99991245 0.95360316 0.99774266 0.8183391  1.        ]\n",
      "test recall:  [0.99991245 0.94845361 0.99774266 0.83519717 0.66666667]\n"
     ]
    }
   ],
   "source": [
    "from sklearn.ensemble import RandomForestClassifier\n",
    "from sklearn.model_selection import GridSearchCV\n",
    "from sklearn.metrics import accuracy_score, precision_score, recall_score\n",
    "\n",
    "param_grid = {'max_depth': [10, 100, 500, 800, 1000], 'n_estimators': [ 100,500,400, 200, 300, 600]}\n",
    "randomForest_clf = RandomForestClassifier()\n",
    "grid_search = GridSearchCV(randomForest_clf, param_grid, cv=10, scoring='neg_mean_squared_error')\n",
    "\n",
    "grid_search.fit(X_train_sc, Y_train_en)\n",
    "clf1 = grid_search.best_estimator_\n",
    "print(\"train accuracy: \", accuracy_score(Y_train_en, clf1.predict(X_train_sc)))\n",
    "start = time. time()\n",
    "y_pred_RF = clf1.predict(X_test_sc)\n",
    "end = time. time()\n",
    "RF_time=end - start\n",
    "accuracy_score_RF=accuracy_score(Y_test_en, y_pred_RF)\n",
    "precision_score_RF=precision_score(Y_test_en, y_pred_RF, average=None)\n",
    "recall_score_RF=recall_score(Y_test_en, y_pred_RF, average=None)\n",
    "print(\"test accuracy: \",accuracy_score_RF )\n",
    "print(\"test precision: \", precision_score_RF)\n",
    "print(\"test recall: \",recall_score_RF )"
   ]
  },
  {
   "cell_type": "code",
   "execution_count": 23,
   "metadata": {},
   "outputs": [
    {
     "name": "stdout",
     "output_type": "stream",
     "text": [
      "test accuracy:  0.9658553837250426\n",
      "test precision:  [0.99986868 0.86770485 0.98434004 0.84754797 1.        ]\n",
      "test recall:  [0.99991245 0.97561774 0.99322799 0.46792231 0.33333333]\n",
      "{'C': 10000, 'gamma': 0.001, 'kernel': 'rbf'}\n"
     ]
    }
   ],
   "source": [
    "from sklearn.svm import SVC\n",
    "from sklearn.model_selection import GridSearchCV\n",
    "from sklearn.metrics import accuracy_score, precision_score, recall_score\n",
    "\n",
    "param_grid = {'C': [1, 10, 100, 1000, 10000], 'gamma': [0.01, 0.001, 0.0001], 'kernel': ['rbf']}\n",
    "svm_clf = SVC()\n",
    "grid_search = GridSearchCV(svm_clf, param_grid, cv=10, scoring='neg_mean_squared_error')\n",
    "\n",
    "grid_search.fit(X_train_sc, Y_train_en)\n",
    "clf2 = grid_search.best_estimator_\n",
    "start = time. time()\n",
    "y_pred_SVC = clf2.predict(X_test_sc)\n",
    "end = time. time()\n",
    "SVM_time=end - start\n",
    "accuracy_score_SVM=accuracy_score(Y_test_en, y_pred_SVC)\n",
    "precision_score_SVM=precision_score(Y_test_en, y_pred_SVC, average=None)\n",
    "recall_score_SVM=recall_score(Y_test_en, y_pred_SVC, average=None)\n",
    "print(\"test accuracy: \",accuracy_score_SVM )\n",
    "print(\"test precision: \", precision_score_SVM)\n",
    "print(\"test recall: \",recall_score_SVM )\n",
    "\n",
    "print(grid_search.best_params_)"
   ]
  },
  {
   "cell_type": "code",
   "execution_count": 24,
   "metadata": {},
   "outputs": [
    {
     "name": "stdout",
     "output_type": "stream",
     "text": [
      "train accuracy:  0.7472439144631081\n",
      "test accuracy:  0.7483200977397678\n",
      "test precision:  [0.99927772 0.88146632 0.07202901 0.5466862  0.01892744]\n",
      "test recall:  [0.72675538 0.77515955 0.98645598 0.87875221 1.        ]\n"
     ]
    }
   ],
   "source": [
    "from sklearn.naive_bayes import GaussianNB\n",
    "from sklearn.metrics import accuracy_score, precision_score, recall_score, confusion_matrix\n",
    "\n",
    "gnb_clf = GaussianNB()\n",
    "param_grid = {}\n",
    "grid_search = GridSearchCV(gnb_clf, param_grid,cv=10, scoring='neg_mean_squared_error')\n",
    "\n",
    "grid_search.fit(X_train_sc, Y_train_en)\n",
    "clf6 = grid_search.best_estimator_\n",
    "start = time. time()\n",
    "y_pred_G = clf6.predict(X_test_sc)\n",
    "end = time. time()\n",
    "NB_time=end - start\n",
    "accuracy_score_NB=accuracy_score(Y_test_en, y_pred_G)\n",
    "precision_score_NB=precision_score(Y_test_en, y_pred_G, average=None)\n",
    "recall_score_NB=recall_score(Y_test_en, y_pred_G, average=None)\n",
    "print(\"train accuracy: \", accuracy_score(Y_train_en, clf6.predict(X_train_sc)))\n",
    "print(\"test accuracy: \",accuracy_score_NB )\n",
    "print(\"test precision: \",precision_score_NB)\n",
    "print(\"test recall: \",recall_score_NB )"
   ]
  },
  {
   "cell_type": "code",
   "execution_count": 25,
   "metadata": {},
   "outputs": [
    {
     "name": "stdout",
     "output_type": "stream",
     "text": [
      "test accuracy:  0.9802591389898081\n",
      "test precision:  [0.99982491 0.95335421 0.98876404 0.8159862  0.71428571]\n",
      "test recall:  [0.99986867 0.94648994 0.99322799 0.83519717 0.83333333]\n",
      "{'max_depth': 100}\n"
     ]
    }
   ],
   "source": [
    "from sklearn.tree import DecisionTreeClassifier\n",
    "from sklearn.model_selection import GridSearchCV\n",
    "from sklearn.metrics import accuracy_score, precision_score, recall_score, confusion_matrix\n",
    "\n",
    "param_grid = {'max_depth': [10, 50, 100, 500, 1000]}\n",
    "tree_clf = DecisionTreeClassifier()\n",
    "grid_search = GridSearchCV(tree_clf, param_grid, cv=10\n",
    "                           , scoring='neg_mean_squared_error')\n",
    "\n",
    "grid_search.fit(X_train_sc, Y_train_en)\n",
    "clf4 = grid_search.best_estimator_\n",
    "start = time. time()\n",
    "y_pred_DT = clf4.predict(X_test_sc)\n",
    "end = time. time()\n",
    "DT_time=end - start\n",
    "accuracy_score_DT=accuracy_score(Y_test_en, y_pred_DT)\n",
    "precision_score_DT= precision_score(Y_test_en, y_pred_DT, average=None)\n",
    "recall_score_DT=recall_score(Y_test_en, y_pred_DT, average=None)\n",
    "print(\"test accuracy: \", accuracy_score_DT)\n",
    "print(\"test precision: \",precision_score_DT)\n",
    "print(\"test recall: \", recall_score_DT)\n",
    "\n",
    "print(grid_search.best_params_)"
   ]
  },
  {
   "cell_type": "code",
   "execution_count": 26,
   "metadata": {},
   "outputs": [
    {
     "name": "stdout",
     "output_type": "stream",
     "text": [
      "test accuracy:  0.9786515770182941\n",
      "test precision:  [0.99964989 0.94631751 0.97098214 0.81404959 1.        ]\n",
      "test recall:  [0.99991245 0.94616266 0.98194131 0.81165391 0.16666667]\n",
      "{'n_neighbors': 15}\n"
     ]
    }
   ],
   "source": [
    "from sklearn.neighbors import KNeighborsClassifier\n",
    "from sklearn.model_selection import GridSearchCV\n",
    "from sklearn.metrics import accuracy_score, precision_score, recall_score, confusion_matrix\n",
    "\n",
    "param_grid = {'n_neighbors': [3, 5, 7, 10, 15, 20, 30]}\n",
    "knn_clf = KNeighborsClassifier()\n",
    "grid_search = GridSearchCV(knn_clf, param_grid, cv=10, scoring='neg_mean_squared_error')\n",
    "\n",
    "grid_search.fit(X_train_sc, Y_train_en)\n",
    "clf5 = grid_search.best_estimator_\n",
    "start = time. time()\n",
    "y_pred_KNN = clf5.predict(X_test_sc)\n",
    "end = time. time()\n",
    "KNN_time=end - start\n",
    "accuracy_score_KNN=accuracy_score(Y_test_en, y_pred_KNN)\n",
    "precision_score_KNN=precision_score(Y_test_en, y_pred_KNN, average=None)\n",
    "recall_score_KNN=recall_score(Y_test_en, y_pred_KNN, average=None)\n",
    "print(\"test accuracy: \", accuracy_score_KNN)\n",
    "print(\"test precision: \",precision_score_KNN )\n",
    "print(\"test recall: \",recall_score_KNN )\n",
    "\n",
    "print(grid_search.best_params_)"
   ]
  },
  {
   "cell_type": "code",
   "execution_count": 33,
   "metadata": {},
   "outputs": [
    {
     "name": "stdout",
     "output_type": "stream",
     "text": [
      "[0.99991245 0.95360316 0.99774266 0.8183391  1.        ]\n",
      "[0.99986868 0.86770485 0.98434004 0.84754797 1.        ]\n",
      "[0.99982491 0.95335421 0.98876404 0.8159862  0.71428571]\n",
      "[0.99964989 0.94631751 0.97098214 0.81404959 1.        ]\n",
      "[0.99927772 0.88146632 0.07202901 0.5466862  0.01892744]\n"
     ]
    },
    {
     "ename": "ValueError",
     "evalue": "shape mismatch: objects cannot be broadcast to a single shape",
     "output_type": "error",
     "traceback": [
      "\u001b[0;31m---------------------------------------------------------------------------\u001b[0m",
      "\u001b[0;31mValueError\u001b[0m                                Traceback (most recent call last)",
      "\u001b[0;32m<ipython-input-33-ad7a7e156abf>\u001b[0m in \u001b[0;36m<module>\u001b[0;34m\u001b[0m\n\u001b[1;32m     13\u001b[0m rects1 = plt.bar(index, precision_score_RF, bar_width,\n\u001b[1;32m     14\u001b[0m \u001b[0malpha\u001b[0m\u001b[0;34m=\u001b[0m\u001b[0mopacity\u001b[0m\u001b[0;34m,\u001b[0m\u001b[0;34m\u001b[0m\u001b[0;34m\u001b[0m\u001b[0m\n\u001b[0;32m---> 15\u001b[0;31m color='b')\n\u001b[0m\u001b[1;32m     16\u001b[0m \u001b[0;34m\u001b[0m\u001b[0m\n\u001b[1;32m     17\u001b[0m rects2 = plt.bar(index + bar_width, precision_score_SVM, bar_width,\n",
      "\u001b[0;32m~/.local/lib/python3.7/site-packages/matplotlib/pyplot.py\u001b[0m in \u001b[0;36mbar\u001b[0;34m(x, height, width, bottom, align, data, **kwargs)\u001b[0m\n\u001b[1;32m   2455\u001b[0m     return gca().bar(\n\u001b[1;32m   2456\u001b[0m         \u001b[0mx\u001b[0m\u001b[0;34m,\u001b[0m \u001b[0mheight\u001b[0m\u001b[0;34m,\u001b[0m \u001b[0mwidth\u001b[0m\u001b[0;34m=\u001b[0m\u001b[0mwidth\u001b[0m\u001b[0;34m,\u001b[0m \u001b[0mbottom\u001b[0m\u001b[0;34m=\u001b[0m\u001b[0mbottom\u001b[0m\u001b[0;34m,\u001b[0m \u001b[0malign\u001b[0m\u001b[0;34m=\u001b[0m\u001b[0malign\u001b[0m\u001b[0;34m,\u001b[0m\u001b[0;34m\u001b[0m\u001b[0;34m\u001b[0m\u001b[0m\n\u001b[0;32m-> 2457\u001b[0;31m         **({\"data\": data} if data is not None else {}), **kwargs)\n\u001b[0m\u001b[1;32m   2458\u001b[0m \u001b[0;34m\u001b[0m\u001b[0m\n\u001b[1;32m   2459\u001b[0m \u001b[0;34m\u001b[0m\u001b[0m\n",
      "\u001b[0;32m~/.local/lib/python3.7/site-packages/matplotlib/__init__.py\u001b[0m in \u001b[0;36minner\u001b[0;34m(ax, data, *args, **kwargs)\u001b[0m\n\u001b[1;32m   1808\u001b[0m                         \u001b[0;34m\"the Matplotlib list!)\"\u001b[0m \u001b[0;34m%\u001b[0m \u001b[0;34m(\u001b[0m\u001b[0mlabel_namer\u001b[0m\u001b[0;34m,\u001b[0m \u001b[0mfunc\u001b[0m\u001b[0;34m.\u001b[0m\u001b[0m__name__\u001b[0m\u001b[0;34m)\u001b[0m\u001b[0;34m,\u001b[0m\u001b[0;34m\u001b[0m\u001b[0;34m\u001b[0m\u001b[0m\n\u001b[1;32m   1809\u001b[0m                         RuntimeWarning, stacklevel=2)\n\u001b[0;32m-> 1810\u001b[0;31m             \u001b[0;32mreturn\u001b[0m \u001b[0mfunc\u001b[0m\u001b[0;34m(\u001b[0m\u001b[0max\u001b[0m\u001b[0;34m,\u001b[0m \u001b[0;34m*\u001b[0m\u001b[0margs\u001b[0m\u001b[0;34m,\u001b[0m \u001b[0;34m**\u001b[0m\u001b[0mkwargs\u001b[0m\u001b[0;34m)\u001b[0m\u001b[0;34m\u001b[0m\u001b[0;34m\u001b[0m\u001b[0m\n\u001b[0m\u001b[1;32m   1811\u001b[0m \u001b[0;34m\u001b[0m\u001b[0m\n\u001b[1;32m   1812\u001b[0m         inner.__doc__ = _add_data_doc(inner.__doc__,\n",
      "\u001b[0;32m~/.local/lib/python3.7/site-packages/matplotlib/axes/_axes.py\u001b[0m in \u001b[0;36mbar\u001b[0;34m(self, x, height, width, bottom, align, **kwargs)\u001b[0m\n\u001b[1;32m   2249\u001b[0m         x, height, width, y, linewidth = np.broadcast_arrays(\n\u001b[1;32m   2250\u001b[0m             \u001b[0;31m# Make args iterable too.\u001b[0m\u001b[0;34m\u001b[0m\u001b[0;34m\u001b[0m\u001b[0;34m\u001b[0m\u001b[0m\n\u001b[0;32m-> 2251\u001b[0;31m             np.atleast_1d(x), height, width, y, linewidth)\n\u001b[0m\u001b[1;32m   2252\u001b[0m \u001b[0;34m\u001b[0m\u001b[0m\n\u001b[1;32m   2253\u001b[0m         \u001b[0;31m# Now that units have been converted, set the tick locations.\u001b[0m\u001b[0;34m\u001b[0m\u001b[0;34m\u001b[0m\u001b[0;34m\u001b[0m\u001b[0m\n",
      "\u001b[0;32m/usr/local/lib/python3.7/site-packages/numpy/lib/stride_tricks.py\u001b[0m in \u001b[0;36mbroadcast_arrays\u001b[0;34m(*args, **kwargs)\u001b[0m\n\u001b[1;32m    257\u001b[0m     \u001b[0margs\u001b[0m \u001b[0;34m=\u001b[0m \u001b[0;34m[\u001b[0m\u001b[0mnp\u001b[0m\u001b[0;34m.\u001b[0m\u001b[0marray\u001b[0m\u001b[0;34m(\u001b[0m\u001b[0m_m\u001b[0m\u001b[0;34m,\u001b[0m \u001b[0mcopy\u001b[0m\u001b[0;34m=\u001b[0m\u001b[0;32mFalse\u001b[0m\u001b[0;34m,\u001b[0m \u001b[0msubok\u001b[0m\u001b[0;34m=\u001b[0m\u001b[0msubok\u001b[0m\u001b[0;34m)\u001b[0m \u001b[0;32mfor\u001b[0m \u001b[0m_m\u001b[0m \u001b[0;32min\u001b[0m \u001b[0margs\u001b[0m\u001b[0;34m]\u001b[0m\u001b[0;34m\u001b[0m\u001b[0;34m\u001b[0m\u001b[0m\n\u001b[1;32m    258\u001b[0m \u001b[0;34m\u001b[0m\u001b[0m\n\u001b[0;32m--> 259\u001b[0;31m     \u001b[0mshape\u001b[0m \u001b[0;34m=\u001b[0m \u001b[0m_broadcast_shape\u001b[0m\u001b[0;34m(\u001b[0m\u001b[0;34m*\u001b[0m\u001b[0margs\u001b[0m\u001b[0;34m)\u001b[0m\u001b[0;34m\u001b[0m\u001b[0;34m\u001b[0m\u001b[0m\n\u001b[0m\u001b[1;32m    260\u001b[0m \u001b[0;34m\u001b[0m\u001b[0m\n\u001b[1;32m    261\u001b[0m     \u001b[0;32mif\u001b[0m \u001b[0mall\u001b[0m\u001b[0;34m(\u001b[0m\u001b[0marray\u001b[0m\u001b[0;34m.\u001b[0m\u001b[0mshape\u001b[0m \u001b[0;34m==\u001b[0m \u001b[0mshape\u001b[0m \u001b[0;32mfor\u001b[0m \u001b[0marray\u001b[0m \u001b[0;32min\u001b[0m \u001b[0margs\u001b[0m\u001b[0;34m)\u001b[0m\u001b[0;34m:\u001b[0m\u001b[0;34m\u001b[0m\u001b[0;34m\u001b[0m\u001b[0m\n",
      "\u001b[0;32m/usr/local/lib/python3.7/site-packages/numpy/lib/stride_tricks.py\u001b[0m in \u001b[0;36m_broadcast_shape\u001b[0;34m(*args)\u001b[0m\n\u001b[1;32m    191\u001b[0m     \u001b[0;31m# use the old-iterator because np.nditer does not handle size 0 arrays\u001b[0m\u001b[0;34m\u001b[0m\u001b[0;34m\u001b[0m\u001b[0;34m\u001b[0m\u001b[0m\n\u001b[1;32m    192\u001b[0m     \u001b[0;31m# consistently\u001b[0m\u001b[0;34m\u001b[0m\u001b[0;34m\u001b[0m\u001b[0;34m\u001b[0m\u001b[0m\n\u001b[0;32m--> 193\u001b[0;31m     \u001b[0mb\u001b[0m \u001b[0;34m=\u001b[0m \u001b[0mnp\u001b[0m\u001b[0;34m.\u001b[0m\u001b[0mbroadcast\u001b[0m\u001b[0;34m(\u001b[0m\u001b[0;34m*\u001b[0m\u001b[0margs\u001b[0m\u001b[0;34m[\u001b[0m\u001b[0;34m:\u001b[0m\u001b[0;36m32\u001b[0m\u001b[0;34m]\u001b[0m\u001b[0;34m)\u001b[0m\u001b[0;34m\u001b[0m\u001b[0;34m\u001b[0m\u001b[0m\n\u001b[0m\u001b[1;32m    194\u001b[0m     \u001b[0;31m# unfortunately, it cannot handle 32 or more arguments directly\u001b[0m\u001b[0;34m\u001b[0m\u001b[0;34m\u001b[0m\u001b[0;34m\u001b[0m\u001b[0m\n\u001b[1;32m    195\u001b[0m     \u001b[0;32mfor\u001b[0m \u001b[0mpos\u001b[0m \u001b[0;32min\u001b[0m \u001b[0mrange\u001b[0m\u001b[0;34m(\u001b[0m\u001b[0;36m32\u001b[0m\u001b[0;34m,\u001b[0m \u001b[0mlen\u001b[0m\u001b[0;34m(\u001b[0m\u001b[0margs\u001b[0m\u001b[0;34m)\u001b[0m\u001b[0;34m,\u001b[0m \u001b[0;36m31\u001b[0m\u001b[0;34m)\u001b[0m\u001b[0;34m:\u001b[0m\u001b[0;34m\u001b[0m\u001b[0;34m\u001b[0m\u001b[0m\n",
      "\u001b[0;31mValueError\u001b[0m: shape mismatch: objects cannot be broadcast to a single shape"
     ]
    },
    {
     "data": {
      "image/png": "[encoded data removed]",
      "text/plain": [
       "<Figure size 720x504 with 1 Axes>"
      ]
     },
     "metadata": {
      "needs_background": "light"
     },
     "output_type": "display_data"
    }
   ],
   "source": [
    "# data to plot\n",
    "n_groups = 4\n",
    "# create plot\n",
    "fig, ax = plt.subplots(figsize=(10,7))\n",
    "index = np.arange(n_groups)\n",
    "bar_width = 0.15\n",
    "opacity = 0.8\n",
    "print(precision_score_RF)\n",
    "print(precision_score_SVM)\n",
    "print(precision_score_DT)\n",
    "print(precision_score_KNN)\n",
    "print(precision_score_NB)\n",
    "rects1 = plt.bar(index, precision_score_RF, bar_width,\n",
    "alpha=opacity,\n",
    "color='b',\n",
    "label='RF')\n",
    "\n",
    "rects2 = plt.bar(index + bar_width, precision_score_SVM, bar_width,\n",
    "alpha=opacity,\n",
    "color='g',\n",
    "label='SVM')\n",
    "\n",
    "rects3 = plt.bar(index+ 2*bar_width, precision_score_DT, bar_width,\n",
    "alpha=opacity,\n",
    "color='c',\n",
    "label='DT')\n",
    "\n",
    "rects4 = plt.bar(index + 3*bar_width, precision_score_KNN, bar_width,\n",
    "alpha=opacity,\n",
    "color='r',\n",
    "label='KNN')\n",
    "\n",
    "rects5 = plt.bar(index+ 4*bar_width, precision_score_NB, bar_width,\n",
    "alpha=opacity,\n",
    "color='y',\n",
    "label='NB')\n",
    "\n",
    "\n",
    "\n",
    "plt.xlabel('Classes')\n",
    "plt.ylabel('Precision')\n",
    "plt.title('Precision by classes for NSL-KDD')\n",
    "plt.xticks(index + bar_width, ('DoS','Normal', 'Probe', 'R2L', 'U2R'),rotation='15')\n",
    "plt.legend()\n",
    "\n",
    "plt.tight_layout()\n",
    "plt.grid()"
   ]
  },
  {
   "cell_type": "code",
   "execution_count": null,
   "metadata": {},
   "outputs": [],
   "source": [
    "[0.99991245 0.95360316 0.99774266 0.8183391  1.        ]\n",
    "[0.99986868 0.86770485 0.98434004 0.84754797 1.        ]\n",
    "[0.99982491 0.95335421 0.98876404 0.8159862  0.71428571]\n",
    "[0.99964989 0.94631751 0.97098214 0.81404959 1.        ]\n",
    "[0.99927772 0.88146632 0.07202901 0.5466862  0.01892744]\n"
   ]
  }
 ],
 "metadata": {
  "kernelspec": {
   "display_name": "Python 3",
   "language": "python",
   "name": "python3"
  },
  "language_info": {
   "codemirror_mode": {
    "name": "ipython",
    "version": 3
   },
   "file_extension": ".py",
   "mimetype": "text/x-python",
   "name": "python",
   "nbconvert_exporter": "python",
   "pygments_lexer": "ipython3",
   "version": "3.7.3"
  }
 },
 "nbformat": 4,
 "nbformat_minor": 2
}
