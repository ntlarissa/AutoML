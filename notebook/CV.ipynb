{
 "cells": [
  {
   "cell_type": "code",
   "execution_count": 1,
   "metadata": {},
   "outputs": [
    {
     "name": "stdout",
     "output_type": "stream",
     "text": [
      "20151201.txt\r\n",
      "20151208.txt\r\n",
      "classification_CV.ipynb\r\n",
      "classification.ipynb\r\n",
      "\u001b[0m\u001b[01;34mCSV_CICIDS\u001b[0m/\r\n",
      "CV_CICIDS.ipynb\r\n",
      "CV.ipynb\r\n",
      "CV_NSL.ipynb\r\n",
      "Friday-02-03-2018_TrafficForML_CICFlowMeter.csv\r\n",
      "\u001b[01;32mFridayCICIDS.csv\u001b[0m*\r\n",
      "\u001b[01;32mFriday-WorkingHours-Morning.pcap_ISCX.csv\u001b[0m*\r\n",
      "KDD_Classification.ipynb\r\n",
      "kddcup_corrected.csv\r\n",
      "kddcup.data.corrected.csv\r\n",
      "KDDTrain+.csv\r\n",
      "NUSW-NB15_features.csv\r\n",
      "RNN.ipynb\r\n",
      "UNSW-NB15.csv\r\n",
      "UNSW_NB15_testing-set.csv\r\n",
      "UNSW_NB15_training-set.csv\r\n",
      "UNSW_NB15_training-set_selected.csv\r\n",
      "Untitled1.ipynb\r\n",
      "Untitled.ipynb\r\n",
      "\u001b[01;32mWednesday-workingHours.pcap_ISCX.csv\u001b[0m*\r\n"
     ]
    }
   ],
   "source": [
    "ls"
   ]
  },
  {
   "cell_type": "code",
   "execution_count": 2,
   "metadata": {},
   "outputs": [],
   "source": [
    "import pandas as pd\n",
    "import numpy as np\n",
    "import sklearn.metrics as sm\n",
    "import matplotlib.pyplot as plt\n",
    "from sklearn.cluster import KMeans\n",
    "from collections import Counter\n",
    "from sklearn.decomposition import PCA\n",
    "from sklearn.preprocessing import LabelEncoder,StandardScaler\n",
    "from mpl_toolkits.mplot3d import Axes3D\n",
    "from sklearn import metrics\n",
    "from sklearn.model_selection import train_test_split\n",
    "import time"
   ]
  },
  {
   "cell_type": "code",
   "execution_count": 3,
   "metadata": {},
   "outputs": [
    {
     "name": "stdout",
     "output_type": "stream",
     "text": [
      "Counter({'Normal': 37000, 'Generic': 18871, 'Exploits': 11132, 'Fuzzers': 6062, 'DoS': 4089, 'Reconnaissance': 3496, 'Analysis': 677, 'Backdoor': 583, 'Shellcode': 378, 'Worms': 44})\n"
     ]
    }
   ],
   "source": [
    "def train_split(data):\n",
    "    X_train=data.drop(['attack_cat'], axis=1)\n",
    "    y_train=data['attack_cat']\n",
    "    return X_train,y_train\n",
    "\n",
    "data_train = pd.read_csv('./UNSW_NB15_training-set_selected.csv').drop([ 'id', 'label'], axis=1)\n",
    "#data_test = pd.read_csv('./UNSW_NB15_testing-set.csv').drop([ 'id', 'label'], axis=1)\n",
    "\n",
    "X_train,Y_train = train_split(data_train)\n",
    "#X_test,Y_test = train_split(data_test)\n",
    "\n",
    "#print(Counter(Y))\n",
    "\n",
    "#X_train, X_test, Y_train, Y_test = train_test_split(X, Y, test_size=0.1)\n",
    "\n",
    "print(Counter(Y_train))\n",
    "#print(Counter(Y_test))"
   ]
  },
  {
   "cell_type": "code",
   "execution_count": 4,
   "metadata": {},
   "outputs": [
    {
     "name": "stdout",
     "output_type": "stream",
     "text": [
      "Counter({1: 45332, 0: 37000})\n"
     ]
    }
   ],
   "source": [
    "def train_split_b(data):\n",
    "    X_train=data.drop(['label'], axis=1)\n",
    "    y_train=data['label']\n",
    "    return X_train,y_train\n",
    "\n",
    "data_train_b = pd.read_csv('./UNSW_NB15_training-set_selected.csv').drop([ 'id', 'attack_cat'], axis=1)\n",
    "#data_test = pd.read_csv('./UNSW_NB15_testing-set.csv').drop([ 'id', 'label'], axis=1)\n",
    "\n",
    "X_train_b,Y_train_b = train_split_b(data_train_b)\n",
    "#X_test,Y_test = train_split(data_test)\n",
    "\n",
    "#print(Counter(Y))\n",
    "\n",
    "#X_train, X_test, Y_train, Y_test = train_test_split(X, Y, test_size=0.1)\n",
    "\n",
    "print(Counter(Y_train_b))\n",
    "#print(Counter(Y_test))"
   ]
  },
  {
   "cell_type": "code",
   "execution_count": 5,
   "metadata": {},
   "outputs": [
    {
     "name": "stdout",
     "output_type": "stream",
     "text": [
      "(82332, 151)\n",
      "(82332, 39)\n",
      "(82332, 190)\n"
     ]
    }
   ],
   "source": [
    "from sklearn.preprocessing import OneHotEncoder\n",
    "\n",
    "X1 = X_train.select_dtypes(include=['object'])\n",
    "ohe = OneHotEncoder()\n",
    "X1_ohe = pd.DataFrame(ohe.fit_transform(X1).toarray())\n",
    "\n",
    "print(X1_ohe.shape)\n",
    "\n",
    "X2 = X_train.select_dtypes(exclude=['object'])\n",
    "sc = StandardScaler()\n",
    "X2_sc = pd.DataFrame(sc.fit_transform(X2))\n",
    "print(X2_sc.shape)\n",
    "\n",
    "X_train_sc1 = pd.concat([X1_ohe,X2_sc], axis=1, sort=False)\n",
    "print(X_train_sc1.shape)"
   ]
  },
  {
   "cell_type": "code",
   "execution_count": 6,
   "metadata": {},
   "outputs": [
    {
     "name": "stdout",
     "output_type": "stream",
     "text": [
      "(82332, 151)\n",
      "(82332, 39)\n",
      "(82332, 190)\n"
     ]
    }
   ],
   "source": [
    "from sklearn.preprocessing import OneHotEncoder\n",
    "\n",
    "X1_b = X_train_b.select_dtypes(include=['object'])\n",
    "ohe = OneHotEncoder()\n",
    "X1_ohe_b = pd.DataFrame(ohe.fit_transform(X1_b).toarray())\n",
    "\n",
    "print(X1_ohe_b.shape)\n",
    "\n",
    "X2_b = X_train_b.select_dtypes(exclude=['object'])\n",
    "sc_b = StandardScaler()\n",
    "X2_sc_b = pd.DataFrame(sc_b.fit_transform(X2_b))\n",
    "print(X2_sc_b.shape)\n",
    "\n",
    "X_train_sc1_b = pd.concat([X1_ohe_b,X2_sc_b], axis=1, sort=False)\n",
    "print(X_train_sc1_b.shape)"
   ]
  },
  {
   "cell_type": "code",
   "execution_count": 7,
   "metadata": {},
   "outputs": [],
   "source": [
    "encoder = LabelEncoder()\n",
    "Y_train_1 = encoder.fit_transform(Y_train)\n",
    "\n",
    "Y_train_1_b = Y_train_b\n",
    "X_train_sc1=X_train_sc1.to_numpy()\n",
    "X_train_sc1_b=X_train_sc1_b.to_numpy()\n",
    "#X_train_sc_b, X_test_sc_b, Y_train_en_b, Y_test_en_b = train_test_split(X_train_sc1_b, Y_train_1_b, test_size=0.1)\n"
   ]
  },
  {
   "cell_type": "code",
   "execution_count": 46,
   "metadata": {},
   "outputs": [
    {
     "name": "stdout",
     "output_type": "stream",
     "text": [
      "TRAIN: [48399 79140 78968 ... 68513 22723 10018] TEST: [15387 65195 55343 ... 41127 69462  1809]\n",
      "Multi class classiffication\n",
      "Counter({6: 33300, 5: 16984, 3: 10019, 4: 5456, 2: 3680, 7: 3146, 0: 609, 1: 525, 8: 340, 9: 39})\n",
      "Counter({6: 3700, 5: 1887, 3: 1113, 4: 606, 2: 409, 7: 350, 0: 68, 1: 58, 8: 38, 9: 5})\n",
      "train accuracy:  0.9371777915733218\n",
      "Time MC:  0.9042272567749023\n",
      "test average accuracy:  0.8664075783337382\n",
      "test precision:  [1.         0.         0.38693467 0.62868526 0.69877408 0.99619978\n",
      " 0.9579195  0.90169492 0.51351351 0.        ]\n",
      "test micro-average precision:  0.8664075783337382\n",
      "test recall:  [0.10294118 0.         0.37652812 0.70889488 0.65841584 0.97244303\n",
      " 0.99054054 0.76       0.5        0.        ]\n",
      "Binary classiffication\n",
      "Counter({1: 40798, 0: 33300})\n",
      "Counter({1: 4534, 0: 3700})\n"
     ]
    },
    {
     "name": "stderr",
     "output_type": "stream",
     "text": [
      "/usr/local/lib/python3.7/site-packages/sklearn/metrics/classification.py:1437: UndefinedMetricWarning: Precision is ill-defined and being set to 0.0 in labels with no predicted samples.\n",
      "  'precision', 'predicted', average, warn_for)\n"
     ]
    },
    {
     "name": "stdout",
     "output_type": "stream",
     "text": [
      "train accuracy:  0.9999190261545521\n",
      "test average accuracy:  0.977532183628856\n",
      "test precision:  [0.96704757 0.98635652]\n",
      "test recall:  [0.98351351 0.97265108]\n",
      "tn:  3639 fp:  61 fn:  124 tp:  4410\n",
      "fpr:  0.016486486486486488 pr:  0.9863565197942294\n",
      "TRAIN: [80876 29015 52261 ... 64796 14805 31145] TEST: [73323  6376 56622 ... 19215 18163 20522]\n",
      "Multi class classiffication\n",
      "Counter({6: 33300, 5: 16984, 3: 10019, 4: 5456, 2: 3680, 7: 3146, 0: 609, 1: 525, 8: 340, 9: 39})\n",
      "Counter({6: 3700, 5: 1887, 3: 1113, 4: 606, 2: 409, 7: 350, 0: 68, 1: 58, 8: 38, 9: 5})\n",
      "train accuracy:  0.9371508002915059\n",
      "Time MC:  0.8677685260772705\n",
      "test average accuracy:  0.8679863978625213\n",
      "test precision:  [1.         1.         0.40149626 0.64199517 0.66612378 0.99618736\n",
      " 0.96012592 0.93356643 0.47222222 0.        ]\n",
      "test micro-average precision:  0.8679863978625213\n",
      "test recall:  [0.07352941 0.01724138 0.39364303 0.71698113 0.67491749 0.96926338\n",
      " 0.98918919 0.76285714 0.44736842 0.        ]\n",
      "Binary classiffication\n",
      "Counter({1: 40798, 0: 33300})\n",
      "Counter({1: 4534, 0: 3700})\n"
     ]
    },
    {
     "name": "stderr",
     "output_type": "stream",
     "text": [
      "/usr/local/lib/python3.7/site-packages/sklearn/metrics/classification.py:1437: UndefinedMetricWarning: Precision is ill-defined and being set to 0.0 in labels with no predicted samples.\n",
      "  'precision', 'predicted', average, warn_for)\n"
     ]
    },
    {
     "name": "stdout",
     "output_type": "stream",
     "text": [
      "train accuracy:  0.9999325217954601\n",
      "test average accuracy:  0.9787466601894583\n",
      "test precision:  [0.97239346 0.98401066]\n",
      "test recall:  [0.98054054 0.97728275]\n",
      "tn:  3628 fp:  72 fn:  103 tp:  4431\n",
      "fpr:  0.01945945945945946 pr:  0.9840106595602931\n",
      "TRAIN: [46581 10126 72855 ... 78028 78722 10473] TEST: [24640 49962 36910 ... 11538  1999 41518]\n",
      "Multi class classiffication\n",
      "Counter({6: 33300, 5: 16984, 3: 10019, 4: 5456, 2: 3680, 7: 3146, 0: 609, 1: 525, 8: 340, 9: 39})\n",
      "Counter({6: 3700, 5: 1887, 3: 1113, 4: 606, 2: 409, 7: 350, 0: 68, 1: 58, 8: 38, 9: 5})\n",
      "train accuracy:  0.9372182784960458\n",
      "Time MC:  1.0714433193206787\n",
      "test average accuracy:  0.8679863978625213\n",
      "test precision:  [1.         0.4        0.3975     0.63828062 0.6618123  0.99672489\n",
      " 0.96147799 0.92123288 0.5862069  0.        ]\n",
      "test micro-average precision:  0.8679863978625213\n",
      "test recall:  [0.13235294 0.03448276 0.38875306 0.70709793 0.67491749 0.96767356\n",
      " 0.99162162 0.76857143 0.44736842 0.        ]\n",
      "Binary classiffication\n",
      "Counter({1: 40798, 0: 33300})\n",
      "Counter({1: 4534, 0: 3700})\n"
     ]
    },
    {
     "name": "stderr",
     "output_type": "stream",
     "text": [
      "/usr/local/lib/python3.7/site-packages/sklearn/metrics/classification.py:1437: UndefinedMetricWarning: Precision is ill-defined and being set to 0.0 in labels with no predicted samples.\n",
      "  'precision', 'predicted', average, warn_for)\n"
     ]
    },
    {
     "name": "stdout",
     "output_type": "stream",
     "text": [
      "train accuracy:  0.9999325217954601\n",
      "test average accuracy:  0.9812970609667233\n",
      "test precision:  [0.97254797 0.98862115]\n",
      "test recall:  [0.98621622 0.97728275]\n",
      "tn:  3649 fp:  51 fn:  103 tp:  4431\n",
      "fpr:  0.013783783783783784 pr:  0.9886211512717537\n",
      "TRAIN: [70497 29508  5098 ... 37700 73293 28514] TEST: [70443  7135 33546 ... 51599 55907  2737]\n",
      "Multi class classiffication\n",
      "Counter({6: 33300, 5: 16984, 3: 10019, 4: 5456, 2: 3680, 7: 3146, 0: 609, 1: 525, 8: 340, 9: 39})\n",
      "Counter({6: 3700, 5: 1887, 3: 1113, 4: 606, 2: 409, 7: 350, 0: 68, 1: 58, 8: 38, 9: 5})\n",
      "train accuracy:  0.9378255823369052\n",
      "Time MC:  1.0738146305084229\n",
      "test average accuracy:  0.8628855963079912\n",
      "test precision:  [1.         0.         0.38117647 0.62182116 0.65986395 0.99781182\n",
      " 0.95892203 0.91401274 0.5862069  0.        ]\n",
      "test micro-average precision:  0.8628855963079912\n",
      "test recall:  [0.05882353 0.         0.39608802 0.68104223 0.64026403 0.96661367\n",
      " 0.99054054 0.82       0.44736842 0.        ]\n",
      "Binary classiffication\n",
      "Counter({1: 40798, 0: 33300})\n",
      "Counter({1: 4534, 0: 3700})\n"
     ]
    },
    {
     "name": "stderr",
     "output_type": "stream",
     "text": [
      "/usr/local/lib/python3.7/site-packages/sklearn/metrics/classification.py:1437: UndefinedMetricWarning: Precision is ill-defined and being set to 0.0 in labels with no predicted samples.\n",
      "  'precision', 'predicted', average, warn_for)\n"
     ]
    },
    {
     "name": "stdout",
     "output_type": "stream",
     "text": [
      "train accuracy:  0.9999190261545521\n",
      "test average accuracy:  0.9803254797182415\n",
      "test precision:  [0.97223705 0.98707665]\n",
      "test recall:  [0.98432432 0.9770622 ]\n",
      "tn:  3642 fp:  58 fn:  104 tp:  4430\n",
      "fpr:  0.015675675675675675 pr:  0.9870766488413547\n",
      "TRAIN: [45413 27936 66122 ... 55372 59866 12821] TEST: [36599  7202 47230 ... 52490 17121 19051]\n",
      "Multi class classiffication\n",
      "Counter({6: 33300, 5: 16984, 3: 10019, 4: 5456, 2: 3680, 7: 3146, 0: 609, 1: 525, 8: 340, 9: 39})\n",
      "Counter({6: 3700, 5: 1887, 3: 1113, 4: 606, 2: 409, 7: 350, 0: 68, 1: 58, 8: 38, 9: 5})\n",
      "train accuracy:  0.9373667305460336\n",
      "Time MC:  0.8582735061645508\n",
      "test average accuracy:  0.8641000728685936\n",
      "test precision:  [0.4        1.         0.36170213 0.6307815  0.6655348  0.99782016\n",
      " 0.95694154 0.91638796 0.51515152 0.        ]\n",
      "test micro-average precision:  0.8641000728685936\n",
      "test recall:  [0.08823529 0.01724138 0.33251834 0.71069182 0.64686469 0.97032326\n",
      " 0.99108108 0.78285714 0.44736842 0.        ]\n",
      "Binary classiffication\n",
      "Counter({1: 40798, 0: 33300})\n",
      "Counter({1: 4534, 0: 3700})\n"
     ]
    },
    {
     "name": "stderr",
     "output_type": "stream",
     "text": [
      "/usr/local/lib/python3.7/site-packages/sklearn/metrics/classification.py:1437: UndefinedMetricWarning: Precision is ill-defined and being set to 0.0 in labels with no predicted samples.\n",
      "  'precision', 'predicted', average, warn_for)\n"
     ]
    },
    {
     "name": "stdout",
     "output_type": "stream",
     "text": [
      "train accuracy:  0.999946017436368\n",
      "test average accuracy:  0.9794753461258198\n",
      "test precision:  [0.97067449 0.98683917]\n",
      "test recall:  [0.98405405 0.97573886]\n",
      "tn:  3641 fp:  59 fn:  110 tp:  4424\n",
      "fpr:  0.015945945945945946 pr:  0.9868391701985277\n",
      "test accuracy average:  97.94753461258198\n",
      "test precision average:  98.65808299332318\n",
      "test false positive rate average:  1.627027027027027\n"
     ]
    }
   ],
   "source": [
    "from sklearn.ensemble import RandomForestClassifier\n",
    "from sklearn.model_selection import GridSearchCV\n",
    "from sklearn.metrics import accuracy_score, precision_score, recall_score\n",
    "from sklearn.model_selection import StratifiedShuffleSplit\n",
    "\n",
    "cv=5\n",
    "sss = StratifiedShuffleSplit(n_splits=cv, random_state=0)\n",
    "accuracy_RF_b=0\n",
    "precision_RF_b=0\n",
    "fpr_RF_b=0\n",
    "precision_soe_RF=[0]*10\n",
    "recall_soe_RF=[0]*10\n",
    "precision_soe_RF_b=[0]*2\n",
    "recall_soe_RF_b=[0]*2\n",
    "for train_index, test_index in sss.split(X_train_sc1,Y_train_1):\n",
    "    print(\"TRAIN:\", train_index, \"TEST:\", test_index)\n",
    "    X_train_sc, X_test_sc = X_train_sc1[train_index], X_train_sc1[test_index]\n",
    "    Y_train_en, Y_test_en = Y_train_1[train_index], Y_train_1[test_index]\n",
    "    X_train_sc_b, X_test_sc_b = X_train_sc1_b[train_index], X_train_sc1_b[test_index]\n",
    "    Y_train_en_b, Y_test_en_b = Y_train_1_b[train_index], Y_train_1_b[test_index]\n",
    "     \n",
    "    param_grid = {'max_depth': [ 800, 1000], 'n_estimators': [ 500,400, 600]}\n",
    "    randomForest_clf = RandomForestClassifier()\n",
    "    grid_search = GridSearchCV(randomForest_clf, param_grid, cv=10, scoring='neg_mean_squared_error')\n",
    "    print('Multi class classiffication')\n",
    "    print(Counter(Y_train_en))\n",
    "    print(Counter(Y_test_en))\n",
    "    grid_search.fit(X_train_sc, Y_train_en)\n",
    "    clf1 = grid_search.best_estimator_\n",
    "    print(\"train accuracy: \", accuracy_score(Y_train_en, clf1.predict(X_train_sc)))\n",
    "    start = time. time()\n",
    "    y_pred_RF = clf1.predict(X_test_sc)\n",
    "    end = time. time()\n",
    "    RF_time=end - start\n",
    "    print(\"Time MC: \",RF_time)\n",
    "    accuracy_means_score_RF=accuracy_score(Y_test_en, y_pred_RF)\n",
    "    precision_score_RF=precision_score(Y_test_en, y_pred_RF, average=None)\n",
    "    recall_score_RF=recall_score(Y_test_en, y_pred_RF, average=None)\n",
    "    precision_mean_score_RF=precision_score(Y_test_en, y_pred_RF, average=\"micro\")\n",
    "    print(\"test average accuracy: \",accuracy_means_score_RF )\n",
    "    print(\"test precision: \", precision_score_RF)\n",
    "    print(\"test micro-average precision: \",precision_mean_score_RF )\n",
    "    print(\"test recall: \",recall_score_RF )\n",
    "    \n",
    "    print('Binary classiffication')\n",
    "    print(Counter(Y_train_en_b))\n",
    "    print(Counter(Y_test_en_b))\n",
    "    param_grid = {'max_depth': [ 800, 1000], 'n_estimators': [ 500,400, 600]}\n",
    "    randomForest_clf_b = RandomForestClassifier()\n",
    "    grid_search_b  = GridSearchCV(randomForest_clf_b, param_grid, cv=10, scoring='neg_mean_squared_error')\n",
    "\n",
    "    grid_search_b.fit(X_train_sc_b, Y_train_en_b)\n",
    "    clf1_b = grid_search_b.best_estimator_\n",
    "    print(\"train accuracy: \", accuracy_score(Y_train_en_b, clf1_b.predict(X_train_sc_b)))\n",
    "    start = time. time()\n",
    "    y_pred_RF_b = clf1_b.predict(X_test_sc_b)\n",
    "    end = time. time()\n",
    "    RF_time_b=end - start\n",
    "    accuracy_score_RF_b=accuracy_score(Y_test_en_b, y_pred_RF_b)\n",
    "    precision_score_RF_b=precision_score(Y_test_en_b, y_pred_RF_b, average=None)\n",
    "    recall_score_RF_b=recall_score(Y_test_en_b, y_pred_RF_b, average=None)\n",
    "    print(\"test average accuracy: \",accuracy_score_RF_b )\n",
    "    print(\"test precision: \", precision_score_RF_b)\n",
    "    print(\"test recall: \",recall_score_RF_b )\n",
    "    \n",
    "    cm_b=confusion_matrix(Y_test_en_b, y_pred_RF_b)\n",
    "\n",
    "    tn, fp, fn, tp = cm_b.ravel()\n",
    "    print(\"tn: \",tn, \"fp: \",fp, \"fn: \",fn,\"tp: \", tp)\n",
    "    fpr=fp/(fp+tn)\n",
    "    pr=tp/(tp+fp)\n",
    "    print(\"fpr: \",fpr,\"pr: \",pr)\n",
    "    \n",
    "    accuracy_RF_b +=accuracy_score_RF_b\n",
    "    precision_RF_b +=pr\n",
    "    fpr_RF_b +=fpr\n",
    "    precision_soe_RF+=precision_score_RF*100/cv\n",
    "    recall_soe_RF+=recall_score_RF*100/cv\n",
    "    precision_soe_RF_b+=precision_score_RF_b*100/cv\n",
    "    recall_soe_RF_b+=recall_score_RF_b*100/cv\n",
    "    \n",
    "print(\"test accuracy average: \",accuracy_RF_b*100/cv )\n",
    "print(\"test precision average: \", precision_RF_b*100/cv)\n",
    "print(\"test false positive rate average: \",fpr_RF_b*100/cv )\n",
    "   "
   ]
  },
  {
   "cell_type": "code",
   "execution_count": 8,
   "metadata": {},
   "outputs": [
    {
     "name": "stdout",
     "output_type": "stream",
     "text": [
      "TRAIN: [48399 79140 78968 ... 68513 22723 10018] TEST: [15387 65195 55343 ... 41127 69462  1809]\n",
      "Multi class classiffication\n"
     ]
    },
    {
     "name": "stderr",
     "output_type": "stream",
     "text": [
      "/usr/local/lib/python3.7/site-packages/sklearn/metrics/classification.py:1437: UndefinedMetricWarning: Precision is ill-defined and being set to 0.0 in labels with no predicted samples.\n",
      "  'precision', 'predicted', average, warn_for)\n"
     ]
    },
    {
     "name": "stdout",
     "output_type": "stream",
     "text": [
      "time:  34124.87623214722\n",
      "test accuracy:  0.8589992713140636\n",
      "test precision:  [0.66666667 0.         0.41336117 0.66989437 0.66783217 0.98658078\n",
      " 0.9511298  0.77477477 0.34285714 0.        ]\n",
      "test  micro-average precision:  0.8589992713140636\n",
      "test recall:  [0.05882353 0.         0.48410758 0.68373765 0.63036304 0.97403286\n",
      " 0.97837838 0.73714286 0.31578947 0.        ]\n",
      "Binary classiffication\n"
     ]
    },
    {
     "ename": "KeyboardInterrupt",
     "evalue": "",
     "output_type": "error",
     "traceback": [
      "\u001b[0;31m---------------------------------------------------------------------------\u001b[0m",
      "\u001b[0;31mKeyboardInterrupt\u001b[0m                         Traceback (most recent call last)",
      "\u001b[0;32m<ipython-input-8-d4f370ecce1a>\u001b[0m in \u001b[0;36m<module>\u001b[0;34m\u001b[0m\n\u001b[1;32m     48\u001b[0m     \u001b[0mgrid_search_b\u001b[0m \u001b[0;34m=\u001b[0m \u001b[0mGridSearchCV\u001b[0m\u001b[0;34m(\u001b[0m\u001b[0msvm_clf_b\u001b[0m\u001b[0;34m,\u001b[0m \u001b[0mparam_grid\u001b[0m\u001b[0;34m,\u001b[0m \u001b[0mcv\u001b[0m\u001b[0;34m=\u001b[0m\u001b[0;36m10\u001b[0m\u001b[0;34m,\u001b[0m \u001b[0mscoring\u001b[0m\u001b[0;34m=\u001b[0m\u001b[0;34m'neg_mean_squared_error'\u001b[0m\u001b[0;34m)\u001b[0m\u001b[0;34m\u001b[0m\u001b[0;34m\u001b[0m\u001b[0m\n\u001b[1;32m     49\u001b[0m \u001b[0;34m\u001b[0m\u001b[0m\n\u001b[0;32m---> 50\u001b[0;31m     \u001b[0mgrid_search_b\u001b[0m\u001b[0;34m.\u001b[0m\u001b[0mfit\u001b[0m\u001b[0;34m(\u001b[0m\u001b[0mX_train_sc_b\u001b[0m\u001b[0;34m,\u001b[0m \u001b[0mY_train_en_b\u001b[0m\u001b[0;34m)\u001b[0m\u001b[0;34m\u001b[0m\u001b[0;34m\u001b[0m\u001b[0m\n\u001b[0m\u001b[1;32m     51\u001b[0m     \u001b[0mclf2_b\u001b[0m \u001b[0;34m=\u001b[0m \u001b[0mgrid_search_b\u001b[0m\u001b[0;34m.\u001b[0m\u001b[0mbest_estimator_\u001b[0m\u001b[0;34m\u001b[0m\u001b[0;34m\u001b[0m\u001b[0m\n\u001b[1;32m     52\u001b[0m     \u001b[0my_pred_SVC_b\u001b[0m \u001b[0;34m=\u001b[0m \u001b[0mclf2_b\u001b[0m\u001b[0;34m.\u001b[0m\u001b[0mpredict\u001b[0m\u001b[0;34m(\u001b[0m\u001b[0mX_test_sc_b\u001b[0m\u001b[0;34m)\u001b[0m\u001b[0;34m\u001b[0m\u001b[0;34m\u001b[0m\u001b[0m\n",
      "\u001b[0;32m/usr/local/lib/python3.7/site-packages/sklearn/model_selection/_search.py\u001b[0m in \u001b[0;36mfit\u001b[0;34m(self, X, y, groups, **fit_params)\u001b[0m\n\u001b[1;32m    685\u001b[0m                 \u001b[0;32mreturn\u001b[0m \u001b[0mresults\u001b[0m\u001b[0;34m\u001b[0m\u001b[0;34m\u001b[0m\u001b[0m\n\u001b[1;32m    686\u001b[0m \u001b[0;34m\u001b[0m\u001b[0m\n\u001b[0;32m--> 687\u001b[0;31m             \u001b[0mself\u001b[0m\u001b[0;34m.\u001b[0m\u001b[0m_run_search\u001b[0m\u001b[0;34m(\u001b[0m\u001b[0mevaluate_candidates\u001b[0m\u001b[0;34m)\u001b[0m\u001b[0;34m\u001b[0m\u001b[0;34m\u001b[0m\u001b[0m\n\u001b[0m\u001b[1;32m    688\u001b[0m \u001b[0;34m\u001b[0m\u001b[0m\n\u001b[1;32m    689\u001b[0m         \u001b[0;31m# For multi-metric evaluation, store the best_index_, best_params_ and\u001b[0m\u001b[0;34m\u001b[0m\u001b[0;34m\u001b[0m\u001b[0;34m\u001b[0m\u001b[0m\n",
      "\u001b[0;32m/usr/local/lib/python3.7/site-packages/sklearn/model_selection/_search.py\u001b[0m in \u001b[0;36m_run_search\u001b[0;34m(self, evaluate_candidates)\u001b[0m\n\u001b[1;32m   1146\u001b[0m     \u001b[0;32mdef\u001b[0m \u001b[0m_run_search\u001b[0m\u001b[0;34m(\u001b[0m\u001b[0mself\u001b[0m\u001b[0;34m,\u001b[0m \u001b[0mevaluate_candidates\u001b[0m\u001b[0;34m)\u001b[0m\u001b[0;34m:\u001b[0m\u001b[0;34m\u001b[0m\u001b[0;34m\u001b[0m\u001b[0m\n\u001b[1;32m   1147\u001b[0m         \u001b[0;34m\"\"\"Search all candidates in param_grid\"\"\"\u001b[0m\u001b[0;34m\u001b[0m\u001b[0;34m\u001b[0m\u001b[0m\n\u001b[0;32m-> 1148\u001b[0;31m         \u001b[0mevaluate_candidates\u001b[0m\u001b[0;34m(\u001b[0m\u001b[0mParameterGrid\u001b[0m\u001b[0;34m(\u001b[0m\u001b[0mself\u001b[0m\u001b[0;34m.\u001b[0m\u001b[0mparam_grid\u001b[0m\u001b[0;34m)\u001b[0m\u001b[0;34m)\u001b[0m\u001b[0;34m\u001b[0m\u001b[0;34m\u001b[0m\u001b[0m\n\u001b[0m\u001b[1;32m   1149\u001b[0m \u001b[0;34m\u001b[0m\u001b[0m\n\u001b[1;32m   1150\u001b[0m \u001b[0;34m\u001b[0m\u001b[0m\n",
      "\u001b[0;32m/usr/local/lib/python3.7/site-packages/sklearn/model_selection/_search.py\u001b[0m in \u001b[0;36mevaluate_candidates\u001b[0;34m(candidate_params)\u001b[0m\n\u001b[1;32m    664\u001b[0m                                \u001b[0;32mfor\u001b[0m \u001b[0mparameters\u001b[0m\u001b[0;34m,\u001b[0m \u001b[0;34m(\u001b[0m\u001b[0mtrain\u001b[0m\u001b[0;34m,\u001b[0m \u001b[0mtest\u001b[0m\u001b[0;34m)\u001b[0m\u001b[0;34m\u001b[0m\u001b[0;34m\u001b[0m\u001b[0m\n\u001b[1;32m    665\u001b[0m                                in product(candidate_params,\n\u001b[0;32m--> 666\u001b[0;31m                                           cv.split(X, y, groups)))\n\u001b[0m\u001b[1;32m    667\u001b[0m \u001b[0;34m\u001b[0m\u001b[0m\n\u001b[1;32m    668\u001b[0m                 \u001b[0;32mif\u001b[0m \u001b[0mlen\u001b[0m\u001b[0;34m(\u001b[0m\u001b[0mout\u001b[0m\u001b[0;34m)\u001b[0m \u001b[0;34m<\u001b[0m \u001b[0;36m1\u001b[0m\u001b[0;34m:\u001b[0m\u001b[0;34m\u001b[0m\u001b[0;34m\u001b[0m\u001b[0m\n",
      "\u001b[0;32m/usr/local/lib/python3.7/site-packages/joblib/parallel.py\u001b[0m in \u001b[0;36m__call__\u001b[0;34m(self, iterable)\u001b[0m\n\u001b[1;32m    922\u001b[0m                 \u001b[0mself\u001b[0m\u001b[0;34m.\u001b[0m\u001b[0m_iterating\u001b[0m \u001b[0;34m=\u001b[0m \u001b[0mself\u001b[0m\u001b[0;34m.\u001b[0m\u001b[0m_original_iterator\u001b[0m \u001b[0;32mis\u001b[0m \u001b[0;32mnot\u001b[0m \u001b[0;32mNone\u001b[0m\u001b[0;34m\u001b[0m\u001b[0;34m\u001b[0m\u001b[0m\n\u001b[1;32m    923\u001b[0m \u001b[0;34m\u001b[0m\u001b[0m\n\u001b[0;32m--> 924\u001b[0;31m             \u001b[0;32mwhile\u001b[0m \u001b[0mself\u001b[0m\u001b[0;34m.\u001b[0m\u001b[0mdispatch_one_batch\u001b[0m\u001b[0;34m(\u001b[0m\u001b[0miterator\u001b[0m\u001b[0;34m)\u001b[0m\u001b[0;34m:\u001b[0m\u001b[0;34m\u001b[0m\u001b[0;34m\u001b[0m\u001b[0m\n\u001b[0m\u001b[1;32m    925\u001b[0m                 \u001b[0;32mpass\u001b[0m\u001b[0;34m\u001b[0m\u001b[0;34m\u001b[0m\u001b[0m\n\u001b[1;32m    926\u001b[0m \u001b[0;34m\u001b[0m\u001b[0m\n",
      "\u001b[0;32m/usr/local/lib/python3.7/site-packages/joblib/parallel.py\u001b[0m in \u001b[0;36mdispatch_one_batch\u001b[0;34m(self, iterator)\u001b[0m\n\u001b[1;32m    757\u001b[0m                 \u001b[0;32mreturn\u001b[0m \u001b[0;32mFalse\u001b[0m\u001b[0;34m\u001b[0m\u001b[0;34m\u001b[0m\u001b[0m\n\u001b[1;32m    758\u001b[0m             \u001b[0;32melse\u001b[0m\u001b[0;34m:\u001b[0m\u001b[0;34m\u001b[0m\u001b[0;34m\u001b[0m\u001b[0m\n\u001b[0;32m--> 759\u001b[0;31m                 \u001b[0mself\u001b[0m\u001b[0;34m.\u001b[0m\u001b[0m_dispatch\u001b[0m\u001b[0;34m(\u001b[0m\u001b[0mtasks\u001b[0m\u001b[0;34m)\u001b[0m\u001b[0;34m\u001b[0m\u001b[0;34m\u001b[0m\u001b[0m\n\u001b[0m\u001b[1;32m    760\u001b[0m                 \u001b[0;32mreturn\u001b[0m \u001b[0;32mTrue\u001b[0m\u001b[0;34m\u001b[0m\u001b[0;34m\u001b[0m\u001b[0m\n\u001b[1;32m    761\u001b[0m \u001b[0;34m\u001b[0m\u001b[0m\n",
      "\u001b[0;32m/usr/local/lib/python3.7/site-packages/joblib/parallel.py\u001b[0m in \u001b[0;36m_dispatch\u001b[0;34m(self, batch)\u001b[0m\n\u001b[1;32m    714\u001b[0m         \u001b[0;32mwith\u001b[0m \u001b[0mself\u001b[0m\u001b[0;34m.\u001b[0m\u001b[0m_lock\u001b[0m\u001b[0;34m:\u001b[0m\u001b[0;34m\u001b[0m\u001b[0;34m\u001b[0m\u001b[0m\n\u001b[1;32m    715\u001b[0m             \u001b[0mjob_idx\u001b[0m \u001b[0;34m=\u001b[0m \u001b[0mlen\u001b[0m\u001b[0;34m(\u001b[0m\u001b[0mself\u001b[0m\u001b[0;34m.\u001b[0m\u001b[0m_jobs\u001b[0m\u001b[0;34m)\u001b[0m\u001b[0;34m\u001b[0m\u001b[0;34m\u001b[0m\u001b[0m\n\u001b[0;32m--> 716\u001b[0;31m             \u001b[0mjob\u001b[0m \u001b[0;34m=\u001b[0m \u001b[0mself\u001b[0m\u001b[0;34m.\u001b[0m\u001b[0m_backend\u001b[0m\u001b[0;34m.\u001b[0m\u001b[0mapply_async\u001b[0m\u001b[0;34m(\u001b[0m\u001b[0mbatch\u001b[0m\u001b[0;34m,\u001b[0m \u001b[0mcallback\u001b[0m\u001b[0;34m=\u001b[0m\u001b[0mcb\u001b[0m\u001b[0;34m)\u001b[0m\u001b[0;34m\u001b[0m\u001b[0;34m\u001b[0m\u001b[0m\n\u001b[0m\u001b[1;32m    717\u001b[0m             \u001b[0;31m# A job can complete so quickly than its callback is\u001b[0m\u001b[0;34m\u001b[0m\u001b[0;34m\u001b[0m\u001b[0;34m\u001b[0m\u001b[0m\n\u001b[1;32m    718\u001b[0m             \u001b[0;31m# called before we get here, causing self._jobs to\u001b[0m\u001b[0;34m\u001b[0m\u001b[0;34m\u001b[0m\u001b[0;34m\u001b[0m\u001b[0m\n",
      "\u001b[0;32m/usr/local/lib/python3.7/site-packages/joblib/_parallel_backends.py\u001b[0m in \u001b[0;36mapply_async\u001b[0;34m(self, func, callback)\u001b[0m\n\u001b[1;32m    180\u001b[0m     \u001b[0;32mdef\u001b[0m \u001b[0mapply_async\u001b[0m\u001b[0;34m(\u001b[0m\u001b[0mself\u001b[0m\u001b[0;34m,\u001b[0m \u001b[0mfunc\u001b[0m\u001b[0;34m,\u001b[0m \u001b[0mcallback\u001b[0m\u001b[0;34m=\u001b[0m\u001b[0;32mNone\u001b[0m\u001b[0;34m)\u001b[0m\u001b[0;34m:\u001b[0m\u001b[0;34m\u001b[0m\u001b[0;34m\u001b[0m\u001b[0m\n\u001b[1;32m    181\u001b[0m         \u001b[0;34m\"\"\"Schedule a func to be run\"\"\"\u001b[0m\u001b[0;34m\u001b[0m\u001b[0;34m\u001b[0m\u001b[0m\n\u001b[0;32m--> 182\u001b[0;31m         \u001b[0mresult\u001b[0m \u001b[0;34m=\u001b[0m \u001b[0mImmediateResult\u001b[0m\u001b[0;34m(\u001b[0m\u001b[0mfunc\u001b[0m\u001b[0;34m)\u001b[0m\u001b[0;34m\u001b[0m\u001b[0;34m\u001b[0m\u001b[0m\n\u001b[0m\u001b[1;32m    183\u001b[0m         \u001b[0;32mif\u001b[0m \u001b[0mcallback\u001b[0m\u001b[0;34m:\u001b[0m\u001b[0;34m\u001b[0m\u001b[0;34m\u001b[0m\u001b[0m\n\u001b[1;32m    184\u001b[0m             \u001b[0mcallback\u001b[0m\u001b[0;34m(\u001b[0m\u001b[0mresult\u001b[0m\u001b[0;34m)\u001b[0m\u001b[0;34m\u001b[0m\u001b[0;34m\u001b[0m\u001b[0m\n",
      "\u001b[0;32m/usr/local/lib/python3.7/site-packages/joblib/_parallel_backends.py\u001b[0m in \u001b[0;36m__init__\u001b[0;34m(self, batch)\u001b[0m\n\u001b[1;32m    547\u001b[0m         \u001b[0;31m# Don't delay the application, to avoid keeping the input\u001b[0m\u001b[0;34m\u001b[0m\u001b[0;34m\u001b[0m\u001b[0;34m\u001b[0m\u001b[0m\n\u001b[1;32m    548\u001b[0m         \u001b[0;31m# arguments in memory\u001b[0m\u001b[0;34m\u001b[0m\u001b[0;34m\u001b[0m\u001b[0;34m\u001b[0m\u001b[0m\n\u001b[0;32m--> 549\u001b[0;31m         \u001b[0mself\u001b[0m\u001b[0;34m.\u001b[0m\u001b[0mresults\u001b[0m \u001b[0;34m=\u001b[0m \u001b[0mbatch\u001b[0m\u001b[0;34m(\u001b[0m\u001b[0;34m)\u001b[0m\u001b[0;34m\u001b[0m\u001b[0;34m\u001b[0m\u001b[0m\n\u001b[0m\u001b[1;32m    550\u001b[0m \u001b[0;34m\u001b[0m\u001b[0m\n\u001b[1;32m    551\u001b[0m     \u001b[0;32mdef\u001b[0m \u001b[0mget\u001b[0m\u001b[0;34m(\u001b[0m\u001b[0mself\u001b[0m\u001b[0;34m)\u001b[0m\u001b[0;34m:\u001b[0m\u001b[0;34m\u001b[0m\u001b[0;34m\u001b[0m\u001b[0m\n",
      "\u001b[0;32m/usr/local/lib/python3.7/site-packages/joblib/parallel.py\u001b[0m in \u001b[0;36m__call__\u001b[0;34m(self)\u001b[0m\n\u001b[1;32m    223\u001b[0m         \u001b[0;32mwith\u001b[0m \u001b[0mparallel_backend\u001b[0m\u001b[0;34m(\u001b[0m\u001b[0mself\u001b[0m\u001b[0;34m.\u001b[0m\u001b[0m_backend\u001b[0m\u001b[0;34m,\u001b[0m \u001b[0mn_jobs\u001b[0m\u001b[0;34m=\u001b[0m\u001b[0mself\u001b[0m\u001b[0;34m.\u001b[0m\u001b[0m_n_jobs\u001b[0m\u001b[0;34m)\u001b[0m\u001b[0;34m:\u001b[0m\u001b[0;34m\u001b[0m\u001b[0;34m\u001b[0m\u001b[0m\n\u001b[1;32m    224\u001b[0m             return [func(*args, **kwargs)\n\u001b[0;32m--> 225\u001b[0;31m                     for func, args, kwargs in self.items]\n\u001b[0m\u001b[1;32m    226\u001b[0m \u001b[0;34m\u001b[0m\u001b[0m\n\u001b[1;32m    227\u001b[0m     \u001b[0;32mdef\u001b[0m \u001b[0m__len__\u001b[0m\u001b[0;34m(\u001b[0m\u001b[0mself\u001b[0m\u001b[0;34m)\u001b[0m\u001b[0;34m:\u001b[0m\u001b[0;34m\u001b[0m\u001b[0;34m\u001b[0m\u001b[0m\n",
      "\u001b[0;32m/usr/local/lib/python3.7/site-packages/joblib/parallel.py\u001b[0m in \u001b[0;36m<listcomp>\u001b[0;34m(.0)\u001b[0m\n\u001b[1;32m    223\u001b[0m         \u001b[0;32mwith\u001b[0m \u001b[0mparallel_backend\u001b[0m\u001b[0;34m(\u001b[0m\u001b[0mself\u001b[0m\u001b[0;34m.\u001b[0m\u001b[0m_backend\u001b[0m\u001b[0;34m,\u001b[0m \u001b[0mn_jobs\u001b[0m\u001b[0;34m=\u001b[0m\u001b[0mself\u001b[0m\u001b[0;34m.\u001b[0m\u001b[0m_n_jobs\u001b[0m\u001b[0;34m)\u001b[0m\u001b[0;34m:\u001b[0m\u001b[0;34m\u001b[0m\u001b[0;34m\u001b[0m\u001b[0m\n\u001b[1;32m    224\u001b[0m             return [func(*args, **kwargs)\n\u001b[0;32m--> 225\u001b[0;31m                     for func, args, kwargs in self.items]\n\u001b[0m\u001b[1;32m    226\u001b[0m \u001b[0;34m\u001b[0m\u001b[0m\n\u001b[1;32m    227\u001b[0m     \u001b[0;32mdef\u001b[0m \u001b[0m__len__\u001b[0m\u001b[0;34m(\u001b[0m\u001b[0mself\u001b[0m\u001b[0;34m)\u001b[0m\u001b[0;34m:\u001b[0m\u001b[0;34m\u001b[0m\u001b[0;34m\u001b[0m\u001b[0m\n",
      "\u001b[0;32m/usr/local/lib/python3.7/site-packages/sklearn/model_selection/_validation.py\u001b[0m in \u001b[0;36m_fit_and_score\u001b[0;34m(estimator, X, y, scorer, train, test, verbose, parameters, fit_params, return_train_score, return_parameters, return_n_test_samples, return_times, return_estimator, error_score)\u001b[0m\n\u001b[1;32m    512\u001b[0m             \u001b[0mestimator\u001b[0m\u001b[0;34m.\u001b[0m\u001b[0mfit\u001b[0m\u001b[0;34m(\u001b[0m\u001b[0mX_train\u001b[0m\u001b[0;34m,\u001b[0m \u001b[0;34m**\u001b[0m\u001b[0mfit_params\u001b[0m\u001b[0;34m)\u001b[0m\u001b[0;34m\u001b[0m\u001b[0;34m\u001b[0m\u001b[0m\n\u001b[1;32m    513\u001b[0m         \u001b[0;32melse\u001b[0m\u001b[0;34m:\u001b[0m\u001b[0;34m\u001b[0m\u001b[0;34m\u001b[0m\u001b[0m\n\u001b[0;32m--> 514\u001b[0;31m             \u001b[0mestimator\u001b[0m\u001b[0;34m.\u001b[0m\u001b[0mfit\u001b[0m\u001b[0;34m(\u001b[0m\u001b[0mX_train\u001b[0m\u001b[0;34m,\u001b[0m \u001b[0my_train\u001b[0m\u001b[0;34m,\u001b[0m \u001b[0;34m**\u001b[0m\u001b[0mfit_params\u001b[0m\u001b[0;34m)\u001b[0m\u001b[0;34m\u001b[0m\u001b[0;34m\u001b[0m\u001b[0m\n\u001b[0m\u001b[1;32m    515\u001b[0m \u001b[0;34m\u001b[0m\u001b[0m\n\u001b[1;32m    516\u001b[0m     \u001b[0;32mexcept\u001b[0m \u001b[0mException\u001b[0m \u001b[0;32mas\u001b[0m \u001b[0me\u001b[0m\u001b[0;34m:\u001b[0m\u001b[0;34m\u001b[0m\u001b[0;34m\u001b[0m\u001b[0m\n",
      "\u001b[0;32m/usr/local/lib/python3.7/site-packages/sklearn/svm/base.py\u001b[0m in \u001b[0;36mfit\u001b[0;34m(self, X, y, sample_weight)\u001b[0m\n\u001b[1;32m    207\u001b[0m \u001b[0;34m\u001b[0m\u001b[0m\n\u001b[1;32m    208\u001b[0m         \u001b[0mseed\u001b[0m \u001b[0;34m=\u001b[0m \u001b[0mrnd\u001b[0m\u001b[0;34m.\u001b[0m\u001b[0mrandint\u001b[0m\u001b[0;34m(\u001b[0m\u001b[0mnp\u001b[0m\u001b[0;34m.\u001b[0m\u001b[0miinfo\u001b[0m\u001b[0;34m(\u001b[0m\u001b[0;34m'i'\u001b[0m\u001b[0;34m)\u001b[0m\u001b[0;34m.\u001b[0m\u001b[0mmax\u001b[0m\u001b[0;34m)\u001b[0m\u001b[0;34m\u001b[0m\u001b[0;34m\u001b[0m\u001b[0m\n\u001b[0;32m--> 209\u001b[0;31m         \u001b[0mfit\u001b[0m\u001b[0;34m(\u001b[0m\u001b[0mX\u001b[0m\u001b[0;34m,\u001b[0m \u001b[0my\u001b[0m\u001b[0;34m,\u001b[0m \u001b[0msample_weight\u001b[0m\u001b[0;34m,\u001b[0m \u001b[0msolver_type\u001b[0m\u001b[0;34m,\u001b[0m \u001b[0mkernel\u001b[0m\u001b[0;34m,\u001b[0m \u001b[0mrandom_seed\u001b[0m\u001b[0;34m=\u001b[0m\u001b[0mseed\u001b[0m\u001b[0;34m)\u001b[0m\u001b[0;34m\u001b[0m\u001b[0;34m\u001b[0m\u001b[0m\n\u001b[0m\u001b[1;32m    210\u001b[0m         \u001b[0;31m# see comment on the other call to np.iinfo in this file\u001b[0m\u001b[0;34m\u001b[0m\u001b[0;34m\u001b[0m\u001b[0;34m\u001b[0m\u001b[0m\n\u001b[1;32m    211\u001b[0m \u001b[0;34m\u001b[0m\u001b[0m\n",
      "\u001b[0;32m/usr/local/lib/python3.7/site-packages/sklearn/svm/base.py\u001b[0m in \u001b[0;36m_dense_fit\u001b[0;34m(self, X, y, sample_weight, solver_type, kernel, random_seed)\u001b[0m\n\u001b[1;32m    266\u001b[0m                 \u001b[0mcache_size\u001b[0m\u001b[0;34m=\u001b[0m\u001b[0mself\u001b[0m\u001b[0;34m.\u001b[0m\u001b[0mcache_size\u001b[0m\u001b[0;34m,\u001b[0m \u001b[0mcoef0\u001b[0m\u001b[0;34m=\u001b[0m\u001b[0mself\u001b[0m\u001b[0;34m.\u001b[0m\u001b[0mcoef0\u001b[0m\u001b[0;34m,\u001b[0m\u001b[0;34m\u001b[0m\u001b[0;34m\u001b[0m\u001b[0m\n\u001b[1;32m    267\u001b[0m                 \u001b[0mgamma\u001b[0m\u001b[0;34m=\u001b[0m\u001b[0mself\u001b[0m\u001b[0;34m.\u001b[0m\u001b[0m_gamma\u001b[0m\u001b[0;34m,\u001b[0m \u001b[0mepsilon\u001b[0m\u001b[0;34m=\u001b[0m\u001b[0mself\u001b[0m\u001b[0;34m.\u001b[0m\u001b[0mepsilon\u001b[0m\u001b[0;34m,\u001b[0m\u001b[0;34m\u001b[0m\u001b[0;34m\u001b[0m\u001b[0m\n\u001b[0;32m--> 268\u001b[0;31m                 max_iter=self.max_iter, random_seed=random_seed)\n\u001b[0m\u001b[1;32m    269\u001b[0m \u001b[0;34m\u001b[0m\u001b[0m\n\u001b[1;32m    270\u001b[0m         \u001b[0mself\u001b[0m\u001b[0;34m.\u001b[0m\u001b[0m_warn_from_fit_status\u001b[0m\u001b[0;34m(\u001b[0m\u001b[0;34m)\u001b[0m\u001b[0;34m\u001b[0m\u001b[0;34m\u001b[0m\u001b[0m\n",
      "\u001b[0;31mKeyboardInterrupt\u001b[0m: "
     ]
    }
   ],
   "source": [
    "from sklearn.svm import SVC\n",
    "from sklearn.model_selection import GridSearchCV\n",
    "from sklearn.metrics import accuracy_score, precision_score, recall_score\n",
    "from sklearn.model_selection import StratifiedShuffleSplit\n",
    "from sklearn.metrics import confusion_matrix\n",
    "\n",
    "cv=5\n",
    "sss = StratifiedShuffleSplit(n_splits=cv, random_state=0)\n",
    "accuracy_SVM_b=0\n",
    "precision_SVM_b=0\n",
    "fpr_SVM_b=0\n",
    "precision_soe_SVM=[0]*10\n",
    "recall_soe_SVM=[0]*10\n",
    "precision_soe_SVM_b=[0]*2\n",
    "recall_soe_SVM_b=[0]*2\n",
    "for train_index, test_index in sss.split(X_train_sc1,Y_train_1):\n",
    "    print(\"TRAIN:\", train_index, \"TEST:\", test_index)\n",
    "    X_train_sc, X_test_sc = X_train_sc1[train_index], X_train_sc1[test_index]\n",
    "    Y_train_en, Y_test_en = Y_train_1[train_index], Y_train_1[test_index]\n",
    "    X_train_sc_b, X_test_sc_b = X_train_sc1_b[train_index], X_train_sc1_b[test_index]\n",
    "    Y_train_en_b, Y_test_en_b = Y_train_1_b[train_index], Y_train_1_b[test_index]\n",
    "\n",
    "    print('Multi class classiffication')\n",
    "    start = time. time()\n",
    "    param_grid = {'C': [ 1000, 10000], 'gamma': [0.01, 0.001], 'kernel': ['rbf']}\n",
    "    svm_clf = SVC()\n",
    "    grid_search = GridSearchCV(svm_clf, param_grid, cv=10, scoring='neg_mean_squared_error')\n",
    "\n",
    "    grid_search.fit(X_train_sc, Y_train_en)\n",
    "    clf2 = grid_search.best_estimator_\n",
    "    y_pred_SVC = clf2.predict(X_test_sc)\n",
    "    end = time. time()\n",
    "    SVM_time=end - start\n",
    "    accuracy_score_SVM=accuracy_score(Y_test_en, y_pred_SVC)\n",
    "    precision_score_SVM=precision_score(Y_test_en, y_pred_SVC, average=None)\n",
    "    recall_score_SVM=recall_score(Y_test_en, y_pred_SVC, average=None)\n",
    "    precision_mean_score_SVM=precision_score(Y_test_en, y_pred_SVC, average=\"micro\")\n",
    "    print(\"time: \",SVM_time)\n",
    "    print(\"test accuracy: \",accuracy_score_SVM )\n",
    "    print(\"test precision: \", precision_score_SVM)\n",
    "    print(\"test  micro-average precision: \", precision_mean_score_SVM)\n",
    "    print(\"test recall: \",recall_score_SVM )\n",
    "    \n",
    "    print('Binary classiffication')\n",
    "    start = time. time()\n",
    "    param_grid = {'C': [ 1000, 10000], 'gamma': [0.01, 0.001], 'kernel': ['rbf']}\n",
    "    svm_clf_b = SVC()\n",
    "    grid_search_b = GridSearchCV(svm_clf_b, param_grid, cv=10, scoring='neg_mean_squared_error')\n",
    "\n",
    "    grid_search_b.fit(X_train_sc_b, Y_train_en_b)\n",
    "    clf2_b = grid_search_b.best_estimator_\n",
    "    y_pred_SVC_b = clf2_b.predict(X_test_sc_b)\n",
    "    end = time. time()\n",
    "    SVM_time_b=end - start\n",
    "    print(\"time: \",SVM_time_b)\n",
    "    accuracy_score_SVM_b=accuracy_score(Y_test_en_b, y_pred_SVC_b)\n",
    "    precision_score_SVM_b=precision_score(Y_test_en_b, y_pred_SVC_b, average=None)\n",
    "    recall_score_SVM_b=recall_score(Y_test_en_b, y_pred_SVC_b, average=None)\n",
    "    print(\"test accuracy: \",accuracy_score_SVM_b )\n",
    "    print(\"test precision: \", precision_score_SVM_b)\n",
    "    print(\"test recall: \",recall_score_SVM_b )\n",
    "    \n",
    "    cm_b=confusion_matrix(Y_test_en_b, y_pred_SVM_b)\n",
    "\n",
    "    tn, fp, fn, tp = cm_b.ravel()\n",
    "    print(\"tn: \",tn, \"fp: \",fp, \"fn: \",fn,\"tp: \", tp)\n",
    "    fpr=fp/(fp+tn)\n",
    "    pr=tp/(tp+fp)\n",
    "    print(\"fpr: \",fpr,\"pr: \",pr)\n",
    "    \n",
    "    accuracy_SVM_b +=accuracy_score_SVM_b\n",
    "    precision_SVM_b +=pr\n",
    "    fpr_SVM_b +=fpr\n",
    "    precision_soe_SVM+=precision_score_SVM*100/cv\n",
    "    recall_soe_SVM+=recall_score_SVM*100/cv\n",
    "    precision_soe_SVM_b+=precision_score_SVM_b*100/cv\n",
    "    recall_soe_SVM_b+=recall_score_SVM_b*100/cv\n",
    "    \n",
    "print(\"test accuracy average: \",accuracy_SVM_b*100/cv )\n",
    "print(\"test precision average: \", precision_SVM_b*100/cv)\n",
    "print(\"test false positive rate average: \",fpr_SVM_b*100/cv )"
   ]
  },
  {
   "cell_type": "code",
   "execution_count": 11,
   "metadata": {},
   "outputs": [
    {
     "name": "stdout",
     "output_type": "stream",
     "text": [
      "TRAIN: [48399 79140 78968 ... 68513 22723 10018] TEST: [15387 65195 55343 ... 41127 69462  1809]\n",
      "Multi class classiffication\n"
     ]
    },
    {
     "name": "stderr",
     "output_type": "stream",
     "text": [
      "/usr/local/lib/python3.7/site-packages/sklearn/metrics/classification.py:1437: UndefinedMetricWarning: Precision is ill-defined and being set to 0.0 in labels with no predicted samples.\n",
      "  'precision', 'predicted', average, warn_for)\n"
     ]
    },
    {
     "name": "stdout",
     "output_type": "stream",
     "text": [
      "train accuracy:  0.5715673837350536\n",
      "test accuracy:  0.5660675248967695\n",
      "test precision:  [0.08457711 0.         0.45454545 0.78947368 0.         0.89085546\n",
      " 0.76575304 0.04682274 0.02743682 0.00631579]\n",
      "test  micro-average precision:  0.5660675248967695\n",
      "test recall:  [0.5        0.         0.01222494 0.04043127 0.         0.96025437\n",
      " 0.73243243 0.04       1.         0.6       ]\n",
      "Binary classiffication\n",
      "train accuracy:  0.6531080461011094\n",
      "test accuracy:  0.6498664075783337\n",
      "test precision:  [0.56205377 1.        ]\n",
      "test recall:  [1.         0.36413763]\n",
      "tn:  3700 fp:  0 fn:  2883 tp:  1651\n",
      "fpr:  0.0 pr:  1.0\n",
      "TRAIN: [80876 29015 52261 ... 64796 14805 31145] TEST: [73323  6376 56622 ... 19215 18163 20522]\n",
      "Multi class classiffication\n"
     ]
    },
    {
     "name": "stderr",
     "output_type": "stream",
     "text": [
      "/usr/local/lib/python3.7/site-packages/sklearn/metrics/classification.py:1437: UndefinedMetricWarning: Precision is ill-defined and being set to 0.0 in labels with no predicted samples.\n",
      "  'precision', 'predicted', average, warn_for)\n"
     ]
    },
    {
     "name": "stdout",
     "output_type": "stream",
     "text": [
      "train accuracy:  0.5718372965532134\n",
      "test accuracy:  0.5711683264512994\n",
      "test precision:  [0.07329843 0.025      0.4        0.80357143 0.         0.90004973\n",
      " 0.76818055 0.05       0.0284006  0.01057082]\n",
      "test  micro-average precision:  0.5711683264512994\n",
      "test recall:  [0.41176471 0.01724138 0.00488998 0.04043127 0.         0.95919449\n",
      " 0.74513514 0.04857143 1.         1.        ]\n",
      "Binary classiffication\n",
      "train accuracy:  0.6525007422602499\n",
      "test accuracy:  0.6470731114889483\n",
      "test precision:  [0.56009688 1.        ]\n",
      "test recall:  [1.         0.35906484]\n",
      "tn:  3700 fp:  0 fn:  2906 tp:  1628\n",
      "fpr:  0.0 pr:  1.0\n",
      "TRAIN: [46581 10126 72855 ... 78028 78722 10473] TEST: [24640 49962 36910 ... 11538  1999 41518]\n",
      "Multi class classiffication\n"
     ]
    },
    {
     "name": "stderr",
     "output_type": "stream",
     "text": [
      "/usr/local/lib/python3.7/site-packages/sklearn/metrics/classification.py:1437: UndefinedMetricWarning: Precision is ill-defined and being set to 0.0 in labels with no predicted samples.\n",
      "  'precision', 'predicted', average, warn_for)\n"
     ]
    },
    {
     "name": "stdout",
     "output_type": "stream",
     "text": [
      "train accuracy:  0.5712974709168939\n",
      "test accuracy:  0.5681321350497935\n",
      "test precision:  [0.06629834 0.02985075 0.28571429 0.83050847 0.         0.90380762\n",
      " 0.76175898 0.05121294 0.02785924 0.00722892]\n",
      "test  micro-average precision:  0.5681321350497935\n",
      "test recall:  [0.35294118 0.03448276 0.00488998 0.04402516 0.         0.95601484\n",
      " 0.73972973 0.05428571 1.         0.6       ]\n",
      "Binary classiffication\n",
      "train accuracy:  0.6529595940511215\n",
      "test accuracy:  0.6514452271071168\n",
      "test precision:  [0.56316591 1.        ]\n",
      "test recall:  [1.         0.36700485]\n",
      "tn:  3700 fp:  0 fn:  2870 tp:  1664\n",
      "fpr:  0.0 pr:  1.0\n",
      "TRAIN: [70497 29508  5098 ... 37700 73293 28514] TEST: [70443  7135 33546 ... 51599 55907  2737]\n",
      "Multi class classiffication\n",
      "train accuracy:  0.5712704796350778\n",
      "test accuracy:  0.5752975467573476\n",
      "test precision:  [0.07159905 0.         0.33333333 0.96666667 0.         0.91687785\n",
      " 0.77734266 0.04415584 0.02852853 0.00902935]\n",
      "test  micro-average precision:  0.5752975467573476\n",
      "test recall:  [0.44117647 0.         0.00488998 0.05211141 0.         0.95866455\n",
      " 0.75108108 0.04857143 1.         0.8       ]\n",
      "Binary classiffication\n",
      "train accuracy:  0.6527436637965937\n",
      "test accuracy:  0.6537527325722614\n",
      "test precision:  [0.56479927 1.        ]\n",
      "test recall:  [1.         0.37119541]\n",
      "tn:  3700 fp:  0 fn:  2851 tp:  1683\n",
      "fpr:  0.0 pr:  1.0\n",
      "TRAIN: [45413 27936 66122 ... 55372 59866 12821] TEST: [36599  7202 47230 ... 52490 17121 19051]\n",
      "Multi class classiffication\n"
     ]
    },
    {
     "name": "stderr",
     "output_type": "stream",
     "text": [
      "/usr/local/lib/python3.7/site-packages/sklearn/metrics/classification.py:1437: UndefinedMetricWarning: Precision is ill-defined and being set to 0.0 in labels with no predicted samples.\n",
      "  'precision', 'predicted', average, warn_for)\n"
     ]
    },
    {
     "name": "stdout",
     "output_type": "stream",
     "text": [
      "train accuracy:  0.5716213662986855\n",
      "test accuracy:  0.5710468787952393\n",
      "test precision:  [0.05966587 0.02564103 0.71428571 0.875      0.         0.91569914\n",
      " 0.7695762  0.04507042 0.02771699 0.01149425]\n",
      "test  micro-average precision:  0.5710468787952393\n",
      "test recall:  [0.36764706 0.01724138 0.01222494 0.05031447 0.         0.96131426\n",
      " 0.74108108 0.04571429 1.         1.        ]\n",
      "Binary classiffication\n",
      "train accuracy:  0.6526761855920538\n",
      "test accuracy:  0.6538741802283216\n",
      "test precision:  [0.56490531 0.99940688]\n",
      "test recall:  [0.99972973 0.37163652]\n",
      "tn:  3699 fp:  1 fn:  2849 tp:  1685\n",
      "fpr:  0.0002702702702702703 pr:  0.9994068801897983\n",
      "test accuracy average:  65.12023317949965\n",
      "test precision average:  99.98813760379596\n",
      "test false positive rate average:  0.005405405405405406\n"
     ]
    }
   ],
   "source": [
    "from sklearn.naive_bayes import GaussianNB\n",
    "from sklearn.metrics import accuracy_score, precision_score, recall_score, confusion_matrix\n",
    "from sklearn.model_selection import StratifiedShuffleSplit\n",
    "\n",
    "cv=5\n",
    "sss = StratifiedShuffleSplit(n_splits=cv, random_state=0)\n",
    "accuracy_G_b=0\n",
    "precision_G_b=0\n",
    "fpr_G_b=0\n",
    "precision_soe_G=[0]*10\n",
    "recall_soe_G=[0]*10\n",
    "precision_soe_G_b=[0]*2\n",
    "recall_soe_G_b=[0]*2\n",
    "for train_index, test_index in sss.split(X_train_sc1,Y_train_1):\n",
    "    print(\"TRAIN:\", train_index, \"TEST:\", test_index)\n",
    "    X_train_sc, X_test_sc = X_train_sc1[train_index], X_train_sc1[test_index]\n",
    "    Y_train_en, Y_test_en = Y_train_1[train_index], Y_train_1[test_index]\n",
    "    X_train_sc_b, X_test_sc_b = X_train_sc1_b[train_index], X_train_sc1_b[test_index]\n",
    "    Y_train_en_b, Y_test_en_b = Y_train_1_b[train_index], Y_train_1_b[test_index]\n",
    "\n",
    "    print('Multi class classiffication')\n",
    "    start = time. time()\n",
    "    gnb_clf = GaussianNB()\n",
    "    param_grid = {}\n",
    "    grid_search = GridSearchCV(gnb_clf, param_grid,cv=10, scoring='neg_mean_squared_error')\n",
    "\n",
    "    grid_search.fit(X_train_sc, Y_train_en)\n",
    "    clf6 = grid_search.best_estimator_\n",
    "    y_pred_G = clf6.predict(X_test_sc)\n",
    "    end = time. time()\n",
    "    NB_time=end - start\n",
    "    accuracy_score_NB=accuracy_score(Y_test_en, y_pred_G)\n",
    "    precision_score_NB=precision_score(Y_test_en, y_pred_G, average=None)\n",
    "    recall_score_NB=recall_score(Y_test_en, y_pred_G, average=None)\n",
    "    precision_mean_score_NB=precision_score(Y_test_en, y_pred_G, average=\"micro\")\n",
    "    print(\"train accuracy: \", accuracy_score(Y_train_en, clf6.predict(X_train_sc)))\n",
    "    print(\"test accuracy: \",accuracy_score_NB )\n",
    "    print(\"test precision: \",precision_score_NB)\n",
    "    print(\"test  micro-average precision: \", precision_mean_score_NB)\n",
    "    print(\"test recall: \",recall_score_NB )\n",
    "    \n",
    "    print('Binary classiffication')\n",
    "    start = time. time()\n",
    "    gnb_clf_b = GaussianNB()\n",
    "    param_grid = {}\n",
    "    grid_search_b = GridSearchCV(gnb_clf_b, param_grid,cv=10, scoring='neg_mean_squared_error')\n",
    "\n",
    "    grid_search_b.fit(X_train_sc_b, Y_train_en_b)\n",
    "    clf6_b = grid_search_b.best_estimator_\n",
    "    y_pred_G_b = clf6_b.predict(X_test_sc_b)\n",
    "    end = time. time()\n",
    "    NB_time_b=end - start\n",
    "    accuracy_score_NB_b=accuracy_score(Y_test_en_b, y_pred_G_b)\n",
    "    precision_score_NB_b=precision_score(Y_test_en_b, y_pred_G_b, average=None)\n",
    "    recall_score_NB_b=recall_score(Y_test_en_b, y_pred_G_b, average=None)\n",
    "    print(\"train accuracy: \", accuracy_score(Y_train_en_b, clf6_b.predict(X_train_sc_b)))\n",
    "    print(\"test accuracy: \",accuracy_score_NB_b )\n",
    "    print(\"test precision: \",precision_score_NB_b)\n",
    "    print(\"test recall: \",recall_score_NB_b )\n",
    "    \n",
    "    cm_b=confusion_matrix(Y_test_en_b, y_pred_G_b)\n",
    "\n",
    "    tn, fp, fn, tp = cm_b.ravel()\n",
    "    print(\"tn: \",tn, \"fp: \",fp, \"fn: \",fn,\"tp: \", tp)\n",
    "    fpr=fp/(fp+tn)\n",
    "    pr=tp/(tp+fp)\n",
    "    print(\"fpr: \",fpr,\"pr: \",pr)\n",
    "    \n",
    "    accuracy_G_b +=accuracy_score_NB_b\n",
    "    precision_G_b +=pr\n",
    "    fpr_G_b +=fpr\n",
    "    precision_soe_G+=precision_score_NB*100/cv\n",
    "    recall_soe_G+=recall_score_NB*100/cv\n",
    "    precision_soe_G_b+=precision_score_NB_b*100/cv\n",
    "    recall_soe_G_b+=recall_score_NB_b*100/cv\n",
    "    \n",
    "print(\"test accuracy average: \",accuracy_G_b*100/cv )\n",
    "print(\"test precision average: \", precision_G_b*100/cv)\n",
    "print(\"test false positive rate average: \",fpr_G_b*100/cv )"
   ]
  },
  {
   "cell_type": "code",
   "execution_count": 12,
   "metadata": {},
   "outputs": [
    {
     "name": "stdout",
     "output_type": "stream",
     "text": [
      "TRAIN: [48399 79140 78968 ... 68513 22723 10018] TEST: [15387 65195 55343 ... 41127 69462  1809]\n",
      "Multi class classiffication\n",
      "time:  88.46231365203857\n",
      "test accuracy:  0.860213747874666\n",
      "test precision:  [1.         0.         0.42716535 0.64634146 0.72186837 0.98610369\n",
      " 0.93643411 0.95669291 0.56       1.        ]\n",
      "test  micro-average precision:  0.860213747874666\n",
      "test recall:  [0.05882353 0.         0.53056235 0.71428571 0.56105611 0.97774245\n",
      " 0.97945946 0.69428571 0.36842105 0.2       ]\n",
      "Binary classiffication\n"
     ]
    },
    {
     "name": "stderr",
     "output_type": "stream",
     "text": [
      "/usr/local/lib/python3.7/site-packages/sklearn/metrics/classification.py:1437: UndefinedMetricWarning: Precision is ill-defined and being set to 0.0 in labels with no predicted samples.\n",
      "  'precision', 'predicted', average, warn_for)\n"
     ]
    },
    {
     "name": "stdout",
     "output_type": "stream",
     "text": [
      "time:  98.57169365882874\n",
      "test accuracy:  0.967816371144037\n",
      "test precision:  [0.96306282 0.97171271]\n",
      "test recall:  [0.96540541 0.96978386]\n",
      "tn:  3572 fp:  128 fn:  137 tp:  4397\n",
      "fpr:  0.034594594594594595 pr:  0.9717127071823204\n",
      "TRAIN: [80876 29015 52261 ... 64796 14805 31145] TEST: [73323  6376 56622 ... 19215 18163 20522]\n",
      "Multi class classiffication\n",
      "time:  86.99353671073914\n",
      "test accuracy:  0.8507408307019675\n",
      "test precision:  [0.5        0.33333333 0.37732342 0.62012693 0.66286645 0.97728473\n",
      " 0.96454668 0.84326019 0.37735849 0.33333333]\n",
      "test  micro-average precision:  0.8507408307019675\n",
      "test recall:  [0.07352941 0.03448276 0.49633252 0.61455526 0.67161716 0.98039216\n",
      " 0.96324324 0.76857143 0.52631579 0.2       ]\n",
      "Binary classiffication\n",
      "time:  94.54395699501038\n",
      "test accuracy:  0.971945591450085\n",
      "test precision:  [0.97069199 0.97296109]\n",
      "test recall:  [0.96675676 0.97617997]\n",
      "tn:  3577 fp:  123 fn:  108 tp:  4426\n",
      "fpr:  0.033243243243243244 pr:  0.9729610903495274\n",
      "TRAIN: [46581 10126 72855 ... 78028 78722 10473] TEST: [24640 49962 36910 ... 11538  1999 41518]\n",
      "Multi class classiffication\n",
      "time:  87.97683930397034\n",
      "test accuracy:  0.8554772892883168\n",
      "test precision:  [1.         0.2        0.39311594 0.63818182 0.64677419 0.98194371\n",
      " 0.9656013  0.87538941 0.38636364 0.5       ]\n",
      "test  micro-average precision:  0.8554772892883168\n",
      "test recall:  [0.11764706 0.03448276 0.53056235 0.63072776 0.66171617 0.97986222\n",
      " 0.96351351 0.80285714 0.44736842 0.4       ]\n",
      "Binary classiffication\n",
      "time:  98.72946095466614\n",
      "test accuracy:  0.9689094000485791\n",
      "test precision:  [0.96691974 0.97052354]\n",
      "test recall:  [0.96378378 0.97309219]\n",
      "tn:  3566 fp:  134 fn:  122 tp:  4412\n",
      "fpr:  0.036216216216216214 pr:  0.970523537175539\n",
      "TRAIN: [70497 29508  5098 ... 37700 73293 28514] TEST: [70443  7135 33546 ... 51599 55907  2737]\n",
      "Multi class classiffication\n",
      "time:  88.18166947364807\n",
      "test accuracy:  0.8513480689822687\n",
      "test precision:  [0.57142857 0.25       0.3772242  0.61032028 0.64991625 0.98300584\n",
      " 0.96799566 0.86666667 0.33333333 0.33333333]\n",
      "test  micro-average precision:  0.8513480689822687\n",
      "test recall:  [0.05882353 0.03448276 0.51833741 0.6163522  0.64026403 0.9809221\n",
      " 0.96459459 0.81714286 0.28947368 0.2       ]\n",
      "Binary classiffication\n",
      "time:  96.79491662979126\n",
      "test accuracy:  0.9690308477046393\n",
      "test precision:  [0.96642296 0.97115173]\n",
      "test recall:  [0.96459459 0.97265108]\n",
      "tn:  3569 fp:  131 fn:  124 tp:  4410\n",
      "fpr:  0.035405405405405405 pr:  0.9711517286941203\n",
      "TRAIN: [45413 27936 66122 ... 55372 59866 12821] TEST: [36599  7202 47230 ... 52490 17121 19051]\n",
      "Multi class classiffication\n",
      "time:  86.20397567749023\n",
      "test accuracy:  0.853048336167112\n",
      "test precision:  [0.28571429 0.11111111 0.39196941 0.61663808 0.66425993 0.98405951\n",
      " 0.96528525 0.84952978 0.31914894 0.5       ]\n",
      "test  micro-average precision:  0.853048336167112\n",
      "test recall:  [0.05882353 0.01724138 0.50122249 0.6460018  0.60726073 0.98145204\n",
      " 0.96945946 0.77428571 0.39473684 0.4       ]\n",
      "Binary classiffication\n",
      "time:  95.30491757392883\n",
      "test accuracy:  0.9681807141122176\n",
      "test precision:  [0.96209677 0.97319451]\n",
      "test recall:  [0.9672973  0.96890163]\n",
      "tn:  3579 fp:  121 fn:  141 tp:  4393\n",
      "fpr:  0.0327027027027027 pr:  0.9731945059813912\n",
      "test accuracy average:  96.91765848919115\n",
      "test precision average:  97.19087138765796\n",
      "test false positive rate average:  3.4432432432432427\n"
     ]
    }
   ],
   "source": [
    "from sklearn.tree import DecisionTreeClassifier\n",
    "from sklearn.model_selection import GridSearchCV\n",
    "from sklearn.metrics import accuracy_score, precision_score, recall_score, confusion_matrix\n",
    "\n",
    "cv=5\n",
    "sss = StratifiedShuffleSplit(n_splits=cv, random_state=0)\n",
    "accuracy_DT_b=0\n",
    "precision_DT_b=0\n",
    "fpr_DT_b=0\n",
    "precision_soe_DT=[0]*10\n",
    "recall_soe_DT=[0]*10\n",
    "precision_soe_DT_b=[0]*2\n",
    "recall_soe_DT_b=[0]*2\n",
    "for train_index, test_index in sss.split(X_train_sc1,Y_train_1):\n",
    "    print(\"TRAIN:\", train_index, \"TEST:\", test_index)\n",
    "    X_train_sc, X_test_sc = X_train_sc1[train_index], X_train_sc1[test_index]\n",
    "    Y_train_en, Y_test_en = Y_train_1[train_index], Y_train_1[test_index]\n",
    "    X_train_sc_b, X_test_sc_b = X_train_sc1_b[train_index], X_train_sc1_b[test_index]\n",
    "    Y_train_en_b, Y_test_en_b = Y_train_1_b[train_index], Y_train_1_b[test_index]\n",
    "\n",
    "    print('Multi class classiffication')\n",
    "    start = time. time()\n",
    "    param_grid = {'max_depth': [10, 50, 100, 500, 1000]}\n",
    "    tree_clf = DecisionTreeClassifier()\n",
    "    grid_search = GridSearchCV(tree_clf, param_grid, cv=10, scoring='neg_mean_squared_error')\n",
    "\n",
    "    grid_search.fit(X_train_sc, Y_train_en)\n",
    "    clf4 = grid_search.best_estimator_\n",
    "    y_pred_DT = clf4.predict(X_test_sc)\n",
    "    end = time. time()\n",
    "    DT_time=end - start\n",
    "    print(\"time: \",DT_time)\n",
    "    accuracy_score_DT=accuracy_score(Y_test_en, y_pred_DT)\n",
    "    precision_score_DT= precision_score(Y_test_en, y_pred_DT, average=None)\n",
    "    recall_score_DT=recall_score(Y_test_en, y_pred_DT, average=None)\n",
    "    precision_mean_score_DT=precision_score(Y_test_en, y_pred_DT, average=\"micro\")\n",
    "    print(\"test accuracy: \", accuracy_score_DT)\n",
    "    print(\"test precision: \",precision_score_DT)\n",
    "    print(\"test  micro-average precision: \", precision_mean_score_DT)\n",
    "    print(\"test recall: \", recall_score_DT)\n",
    "   \n",
    "    print('Binary classiffication')\n",
    "    start = time. time()\n",
    "    param_grid = {'max_depth': [10, 50, 100, 500, 1000]}\n",
    "    tree_clf_b = DecisionTreeClassifier()\n",
    "    grid_search_b = GridSearchCV(tree_clf_b, param_grid, cv=10, scoring='neg_mean_squared_error')\n",
    "\n",
    "    grid_search_b.fit(X_train_sc_b, Y_train_en_b)\n",
    "    clf4_b = grid_search_b.best_estimator_\n",
    "    y_pred_DT_b = clf4_b.predict(X_test_sc_b)\n",
    "    end = time. time()\n",
    "    DT_time_b=end - start\n",
    "    print(\"time: \",DT_time_b)\n",
    "    accuracy_score_DT_b=accuracy_score(Y_test_en_b, y_pred_DT_b)\n",
    "    precision_score_DT_b= precision_score(Y_test_en_b, y_pred_DT_b, average=None)\n",
    "    recall_score_DT_b=recall_score(Y_test_en_b, y_pred_DT_b, average=None)\n",
    "    print(\"test accuracy: \", accuracy_score_DT_b)\n",
    "    print(\"test precision: \",precision_score_DT_b)\n",
    "    print(\"test recall: \", recall_score_DT_b)\n",
    "    \n",
    "    cm_b=confusion_matrix(Y_test_en_b, y_pred_DT_b)\n",
    "\n",
    "    tn, fp, fn, tp = cm_b.ravel()\n",
    "    print(\"tn: \",tn, \"fp: \",fp, \"fn: \",fn,\"tp: \", tp)\n",
    "    fpr=fp/(fp+tn)\n",
    "    pr=tp/(tp+fp)\n",
    "    print(\"fpr: \",fpr,\"pr: \",pr)\n",
    "    \n",
    "    accuracy_DT_b +=accuracy_score_DT_b\n",
    "    precision_DT_b +=pr\n",
    "    fpr_DT_b +=fpr\n",
    "    precision_soe_DT+=precision_score_DT*100/cv\n",
    "    recall_soe_DT+=recall_score_DT*100/cv\n",
    "    precision_soe_DT_b+=precision_score_DT_b*100/cv\n",
    "    recall_soe_DT_b+=recall_score_DT_b*100/cv\n",
    "    \n",
    "print(\"test accuracy average: \",accuracy_DT_b*100/cv )\n",
    "print(\"test precision average: \", precision_DT_b*100/cv)\n",
    "print(\"test false positive rate average: \",fpr_DT_b*100/cv )"
   ]
  },
  {
   "cell_type": "code",
   "execution_count": 13,
   "metadata": {},
   "outputs": [
    {
     "name": "stdout",
     "output_type": "stream",
     "text": [
      "TRAIN: [48399 79140 78968 ... 68513 22723 10018] TEST: [15387 65195 55343 ... 41127 69462  1809]\n",
      "Multi class classiffication\n"
     ]
    },
    {
     "name": "stderr",
     "output_type": "stream",
     "text": [
      "/usr/local/lib/python3.7/site-packages/sklearn/metrics/classification.py:1437: UndefinedMetricWarning: Precision is ill-defined and being set to 0.0 in labels with no predicted samples.\n",
      "  'precision', 'predicted', average, warn_for)\n"
     ]
    },
    {
     "name": "stdout",
     "output_type": "stream",
     "text": [
      "time:  -2384.9234414100647\n",
      "test accuracy:  0.8213504979353898\n",
      "test precision:  [0.2        0.         0.4084507  0.61248999 0.56862745 0.99452355\n",
      " 0.88210886 0.6702509  0.25       0.        ]\n",
      "test  micro-average precision:  0.8213504979353898\n",
      "test recall:  [0.02941176 0.         0.35452323 0.68733154 0.38283828 0.96237414\n",
      " 0.97675676 0.53428571 0.05263158 0.        ]\n",
      "Binary classiffication\n",
      "time:  2410.770424604416\n",
      "test accuracy:  0.9325965508865679\n",
      "test precision:  [0.90538799 0.95683123]\n",
      "test recall:  [0.94918919 0.91905602]\n",
      "tn:  3512 fp:  188 fn:  367 tp:  4167\n",
      "fpr:  0.05081081081081081 pr:  0.9568312284730195\n",
      "TRAIN: [80876 29015 52261 ... 64796 14805 31145] TEST: [73323  6376 56622 ... 19215 18163 20522]\n",
      "Multi class classiffication\n"
     ]
    },
    {
     "name": "stderr",
     "output_type": "stream",
     "text": [
      "/usr/local/lib/python3.7/site-packages/sklearn/metrics/classification.py:1437: UndefinedMetricWarning: Precision is ill-defined and being set to 0.0 in labels with no predicted samples.\n",
      "  'precision', 'predicted', average, warn_for)\n"
     ]
    },
    {
     "name": "stdout",
     "output_type": "stream",
     "text": [
      "time:  -2217.1854903697968\n",
      "test accuracy:  0.8146708768520767\n",
      "test precision:  [0.08333333 0.         0.41032609 0.61493289 0.48988764 0.99128065\n",
      " 0.87863248 0.68821293 0.5        0.        ]\n",
      "test  micro-average precision:  0.8146708768520767\n",
      "test recall:  [0.02941176 0.         0.36919315 0.65858041 0.35973597 0.96396396\n",
      " 0.97243243 0.51714286 0.15789474 0.        ]\n",
      "Binary classiffication\n",
      "time:  2283.5444343090057\n",
      "test accuracy:  0.9308962837017245\n",
      "test precision:  [0.89482976 0.96439447]\n",
      "test recall:  [0.95891892 0.90802823]\n",
      "tn:  3548 fp:  152 fn:  417 tp:  4117\n",
      "fpr:  0.04108108108108108 pr:  0.964394471773249\n",
      "TRAIN: [46581 10126 72855 ... 78028 78722 10473] TEST: [24640 49962 36910 ... 11538  1999 41518]\n",
      "Multi class classiffication\n"
     ]
    },
    {
     "name": "stderr",
     "output_type": "stream",
     "text": [
      "/usr/local/lib/python3.7/site-packages/sklearn/metrics/classification.py:1437: UndefinedMetricWarning: Precision is ill-defined and being set to 0.0 in labels with no predicted samples.\n",
      "  'precision', 'predicted', average, warn_for)\n"
     ]
    },
    {
     "name": "stdout",
     "output_type": "stream",
     "text": [
      "time:  -2291.5328698158264\n",
      "test accuracy:  0.8166140393490405\n",
      "test precision:  [0.16666667 0.         0.37414966 0.62553926 0.53298153 0.99669421\n",
      " 0.87106843 0.71538462 0.88888889 0.        ]\n",
      "test  micro-average precision:  0.8166140393490405\n",
      "test recall:  [0.01470588 0.         0.40342298 0.65139263 0.33333333 0.95866455\n",
      " 0.98054054 0.53142857 0.21052632 0.        ]\n",
      "Binary classiffication\n",
      "time:  2417.673138141632\n",
      "test accuracy:  0.9334466844789896\n",
      "test precision:  [0.90306905 0.96091582]\n",
      "test recall:  [0.95432432 0.91640935]\n",
      "tn:  3531 fp:  169 fn:  379 tp:  4155\n",
      "fpr:  0.045675675675675674 pr:  0.9609158186864015\n",
      "TRAIN: [70497 29508  5098 ... 37700 73293 28514] TEST: [70443  7135 33546 ... 51599 55907  2737]\n",
      "Multi class classiffication\n"
     ]
    },
    {
     "name": "stderr",
     "output_type": "stream",
     "text": [
      "/usr/local/lib/python3.7/site-packages/sklearn/metrics/classification.py:1437: UndefinedMetricWarning: Precision is ill-defined and being set to 0.0 in labels with no predicted samples.\n",
      "  'precision', 'predicted', average, warn_for)\n"
     ]
    },
    {
     "name": "stdout",
     "output_type": "stream",
     "text": [
      "time:  -2208.454082250595\n",
      "test accuracy:  0.8149137721641972\n",
      "test precision:  [0.05       0.         0.38987342 0.60611065 0.50490196 0.99560922\n",
      " 0.88053856 0.70774648 0.33333333 0.        ]\n",
      "test  micro-average precision:  0.8149137721641972\n",
      "test recall:  [0.01470588 0.         0.37652812 0.65947889 0.33993399 0.96131426\n",
      " 0.97216216 0.57428571 0.07894737 0.        ]\n",
      "Binary classiffication\n",
      "time:  2349.3295464515686\n",
      "test accuracy:  0.9340539227592908\n",
      "test precision:  [0.90073623 0.96461001]\n",
      "test recall:  [0.95891892 0.91376268]\n",
      "tn:  3548 fp:  152 fn:  391 tp:  4143\n",
      "fpr:  0.04108108108108108 pr:  0.9646100116414436\n",
      "TRAIN: [45413 27936 66122 ... 55372 59866 12821] TEST: [36599  7202 47230 ... 52490 17121 19051]\n",
      "Multi class classiffication\n"
     ]
    },
    {
     "name": "stderr",
     "output_type": "stream",
     "text": [
      "/usr/local/lib/python3.7/site-packages/sklearn/metrics/classification.py:1437: UndefinedMetricWarning: Precision is ill-defined and being set to 0.0 in labels with no predicted samples.\n",
      "  'precision', 'predicted', average, warn_for)\n"
     ]
    },
    {
     "name": "stdout",
     "output_type": "stream",
     "text": [
      "time:  -2311.654723882675\n",
      "test accuracy:  0.8163711440369201\n",
      "test precision:  [0.         0.         0.38518519 0.62139219 0.52341598 0.99561644\n",
      " 0.86755917 0.75289575 0.3        0.        ]\n",
      "test  micro-average precision:  0.8163711440369201\n",
      "test recall:  [0.         0.         0.38141809 0.65768194 0.31353135 0.96290408\n",
      " 0.98081081 0.55714286 0.07894737 0.        ]\n",
      "Binary classiffication\n",
      "time:  2371.063140630722\n",
      "test accuracy:  0.9323536555744474\n",
      "test precision:  [0.90367326 0.95807418]\n",
      "test recall:  [0.95081081 0.91729157]\n",
      "tn:  3518 fp:  182 fn:  375 tp:  4159\n",
      "fpr:  0.049189189189189186 pr:  0.9580741764570375\n",
      "test accuracy average:  93.2669419480204\n",
      "test precision average:  96.09651414062303\n",
      "test false positive rate average:  4.556756756756757\n"
     ]
    }
   ],
   "source": [
    "from sklearn.neighbors import KNeighborsClassifier\n",
    "from sklearn.model_selection import GridSearchCV\n",
    "from sklearn.metrics import accuracy_score, precision_score, recall_score, confusion_matrix\n",
    "from sklearn.model_selection import StratifiedShuffleSplit\n",
    "\n",
    "cv=5\n",
    "sss = StratifiedShuffleSplit(n_splits=cv, random_state=0)\n",
    "accuracy_KNN_b=0\n",
    "precision_KNN_b=0\n",
    "fpr_KNN_b=0\n",
    "precision_soe_KNN=[0]*10\n",
    "recall_soe_KNN=[0]*10\n",
    "precision_soe_KNN_b=[0]*2\n",
    "recall_soe_KNN_b=[0]*2\n",
    "for train_index, test_index in sss.split(X_train_sc1,Y_train_1):\n",
    "    print(\"TRAIN:\", train_index, \"TEST:\", test_index)\n",
    "    X_train_sc, X_test_sc = X_train_sc1[train_index], X_train_sc1[test_index]\n",
    "    Y_train_en, Y_test_en = Y_train_1[train_index], Y_train_1[test_index]\n",
    "    X_train_sc_b, X_test_sc_b = X_train_sc1_b[train_index], X_train_sc1_b[test_index]\n",
    "    Y_train_en_b, Y_test_en_b = Y_train_1_b[train_index], Y_train_1_b[test_index]\n",
    "\n",
    "    print('Multi class classiffication')\n",
    "    start = time. time()\n",
    "    param_grid = {'n_neighbors': [3, 5, 7, 10, 15, 20, 30]}\n",
    "    knn_clf = KNeighborsClassifier()\n",
    "    grid_search = GridSearchCV(knn_clf, param_grid, cv=10, scoring='neg_mean_squared_error')\n",
    "\n",
    "    grid_search.fit(X_train_sc, Y_train_en)\n",
    "    clf5 = grid_search.best_estimator_\n",
    "    start = time. time()\n",
    "    y_pred_KNN = clf5.predict(X_test_sc)\n",
    "    KNN_time=end - start\n",
    "    accuracy_score_KNN=accuracy_score(Y_test_en, y_pred_KNN)\n",
    "    precision_score_KNN=precision_score(Y_test_en, y_pred_KNN, average=None)\n",
    "    recall_score_KNN=recall_score(Y_test_en, y_pred_KNN, average=None)\n",
    "    precision_mean_score_KNN=precision_score(Y_test_en, y_pred_KNN, average=\"micro\")\n",
    "    print(\"time: \",KNN_time)\n",
    "    print(\"test accuracy: \", accuracy_score_KNN)\n",
    "    print(\"test precision: \",precision_score_KNN )\n",
    "    print(\"test  micro-average precision: \", precision_mean_score_KNN)\n",
    "    print(\"test recall: \",recall_score_KNN )\n",
    "    \n",
    "    print('Binary classiffication')\n",
    "    start = time. time()\n",
    "    param_grid = {'n_neighbors': [3, 5, 7, 10, 15, 20, 30]}\n",
    "    knn_clf_b = KNeighborsClassifier()\n",
    "    grid_search_b = GridSearchCV(knn_clf_b, param_grid, cv=10, scoring='neg_mean_squared_error')\n",
    "\n",
    "    grid_search_b.fit(X_train_sc_b, Y_train_en_b)\n",
    "    clf5_b = grid_search_b.best_estimator_\n",
    "    y_pred_KNN_b = clf5_b.predict(X_test_sc_b)\n",
    "    end = time. time()\n",
    "    KNN_time_b=end - start\n",
    "    print(\"time: \",KNN_time_b)\n",
    "    accuracy_score_KNN_b=accuracy_score(Y_test_en_b, y_pred_KNN_b)\n",
    "    precision_score_KNN_b=precision_score(Y_test_en_b, y_pred_KNN_b, average=None)\n",
    "    recall_score_KNN_b=recall_score(Y_test_en_b, y_pred_KNN_b, average=None)\n",
    "    print(\"test accuracy: \", accuracy_score_KNN_b)\n",
    "    print(\"test precision: \",precision_score_KNN_b)\n",
    "    print(\"test recall: \",recall_score_KNN_b)\n",
    "    \n",
    "    cm_b=confusion_matrix(Y_test_en_b, y_pred_KNN_b)\n",
    "\n",
    "    tn, fp, fn, tp = cm_b.ravel()\n",
    "    print(\"tn: \",tn, \"fp: \",fp, \"fn: \",fn,\"tp: \", tp)\n",
    "    fpr=fp/(fp+tn)\n",
    "    pr=tp/(tp+fp)\n",
    "    print(\"fpr: \",fpr,\"pr: \",pr)\n",
    "    \n",
    "    accuracy_KNN_b +=accuracy_score_KNN_b\n",
    "    precision_KNN_b +=pr\n",
    "    fpr_KNN_b +=fpr\n",
    "    precision_soe_KNN+=precision_score_KNN*100/cv\n",
    "    recall_soe_KNN+=recall_score_KNN*100/cv\n",
    "    precision_soe_KNN_b+=precision_score_KNN_b*100/cv\n",
    "    recall_soe_KNN_b+=recall_score_KNN_b*100/cv\n",
    "    \n",
    "print(\"test accuracy average: \",accuracy_KNN_b*100/cv )\n",
    "print(\"test precision average: \", precision_KNN_b*100/cv)\n",
    "print(\"test false positive rate average: \",fpr_KNN_b*100/cv )"
   ]
  },
  {
   "cell_type": "code",
   "execution_count": 26,
   "metadata": {},
   "outputs": [
    {
     "name": "stdout",
     "output_type": "stream",
     "text": [
      "TRAIN: [16467 16468 16469 ... 82329 82330 82331] TEST: [    0     1     2 ... 16464 16465 16466]\n",
      "train accuracy:  0.9999240871479541\n",
      "test accuracy:  0.8871075484301937\n",
      "test precision:  [0.11413563 0.9997217 ]\n",
      "test recall:  [0.98353909 0.88566321]\n",
      "tn:  239 fp:  4 fn:  1855 tp:  14369\n",
      "fpr:  0.01646090534979424 pr:  0.8856632149901381\n",
      "TRAIN: [    0     1     2 ... 82329 82330 82331] TEST: [16467 16468 16469 ... 32931 32932 32933]\n",
      "train accuracy:  0.999908904577545\n",
      "test accuracy:  0.9979959919839679\n",
      "test precision:  [0.99968577 0.99566474]\n",
      "test recall:  [0.99686651 0.99956478]\n",
      "tn:  9544 fp:  30 fn:  3 tp:  6890\n",
      "fpr:  0.003133486526007938 pr:  0.9995647758595677\n",
      "TRAIN: [    0     1     2 ... 82329 82330 82331] TEST: [32934 32935 32936 ... 49397 49398 49399]\n",
      "train accuracy:  0.9999544529802933\n",
      "test accuracy:  0.9435807117697073\n",
      "test precision:  [0.93416844 0.96391555]\n",
      "test recall:  [0.98243483 0.87142113]\n",
      "tn:  10515 fp:  188 fn:  741 tp:  5022\n",
      "fpr:  0.017565168644305334 pr:  0.8714211348256117\n",
      "TRAIN: [    0     1     2 ... 82329 82330 82331] TEST: [49400 49401 49402 ... 65863 65864 65865]\n",
      "train accuracy:  0.9999392706403911\n",
      "test accuracy:  0.9232964897364265\n",
      "test precision:  [0.01096319 1.        ]\n",
      "test recall:  [1.         0.92323122]\n",
      "tn:  14 fp:  0 fn:  1263 tp:  15189\n",
      "fpr:  0.0 pr:  0.9232312180889861\n",
      "TRAIN: [    0     1     2 ... 65863 65864 65865] TEST: [65866 65867 65868 ... 82329 82330 82331]\n",
      "train accuracy:  1.0\n",
      "test accuracy:  0.5836268674845135\n",
      "test precision:  [1. 0.]\n",
      "test recall:  [0.58362687 0.        ]\n",
      "tn:  9610 fp:  6856 fn:  0 tp:  0\n",
      "fpr:  0.41637313251548647 pr:  nan\n",
      "test accuracy average:  4.335607609404809\n",
      "test precision average:  [1. 0.]\n",
      "test false positive rate average:  0.45353269303559396\n"
     ]
    },
    {
     "name": "stderr",
     "output_type": "stream",
     "text": [
      "/usr/local/lib/python3.7/site-packages/sklearn/metrics/classification.py:1439: UndefinedMetricWarning: Recall is ill-defined and being set to 0.0 in labels with no true samples.\n",
      "  'recall', 'true', average, warn_for)\n",
      "/usr/local/lib/python3.7/site-packages/ipykernel_launcher.py:42: RuntimeWarning: invalid value encountered in long_scalars\n"
     ]
    }
   ],
   "source": [
    "from sklearn.ensemble import RandomForestClassifier\n",
    "from sklearn.model_selection import GridSearchCV\n",
    "from sklearn.metrics import accuracy_score, precision_score, recall_score\n",
    "from sklearn.model_selection import KFold\n",
    "from sklearn.metrics import confusion_matrix\n",
    "\n",
    "cv=5\n",
    "kf = KFold(n_splits=cv)\n",
    "kf.get_n_splits(X_train_sc1_b)\n",
    "KFold(n_splits=cv, random_state=None, shuffle=False)\n",
    "accuracy_RF_b=0\n",
    "precision_RF_b=0\n",
    "fpr_RF_b=0\n",
    "for train_index, test_index in kf.split(X_train_sc1_b):\n",
    "    print(\"TRAIN:\", train_index, \"TEST:\", test_index)\n",
    "    X_train_sc_b, X_test_sc_b = X_train_sc1_b[train_index], X_train_sc1_b[test_index]\n",
    "    Y_train_en_b, Y_test_en_b = Y_train_1_b[train_index], Y_train_1_b[test_index]\n",
    "\n",
    "    param_grid = {'max_depth': [ 800, 1000], 'n_estimators': [ 500,400, 600]}\n",
    "    randomForest_clf_b = RandomForestClassifier()\n",
    "    grid_search_b  = GridSearchCV(randomForest_clf_b, param_grid, cv=10, scoring='neg_mean_squared_error')\n",
    "\n",
    "    grid_search_b.fit(X_train_sc_b, Y_train_en_b)\n",
    "    clf1_b = grid_search_b.best_estimator_\n",
    "    print(\"train accuracy: \", accuracy_score(Y_train_en_b, clf1_b.predict(X_train_sc_b)))\n",
    "    start = time. time()\n",
    "    y_pred_RF_b = clf1_b.predict(X_test_sc_b)\n",
    "    end = time. time()\n",
    "    RF_time_b=end - start\n",
    "    accuracy_score_RF_b=accuracy_score(Y_test_en_b, y_pred_RF_b)\n",
    "    precision_score_RF_b=precision_score(Y_test_en_b, y_pred_RF_b, average=None)\n",
    "    recall_score_RF_b=recall_score(Y_test_en_b, y_pred_RF_b, average=None)\n",
    "    print(\"test accuracy: \",accuracy_score_RF_b )\n",
    "    print(\"test precision: \", precision_score_RF_b)\n",
    "    print(\"test recall: \",recall_score_RF_b )\n",
    "    \n",
    "    cm_b=confusion_matrix(Y_test_en_b, y_pred_RF_b)\n",
    "\n",
    "    tn, fp, fn, tp = cm_b.ravel()\n",
    "    print(\"tn: \",tn, \"fp: \",fp, \"fn: \",fn,\"tp: \", tp)\n",
    "    fpr=fp/(fp+tn)\n",
    "    pr=tp/(tp+fn)\n",
    "    print(\"fpr: \",fpr,\"pr: \",pr)\n",
    "    \n",
    "    accuracy_RF_b +=accuracy_score_RF_b\n",
    "    precision_RF_b +=pr\n",
    "    fpr_RF_b +=fpr\n",
    "    \n",
    "print(\"test accuracy average: \",accuracy_RF_b )\n",
    "print(\"test precision average: \", precision_score_RF_b)\n",
    "print(\"test false positive rate average: \",fpr_RF_b )"
   ]
  },
  {
   "cell_type": "code",
   "execution_count": 14,
   "metadata": {},
   "outputs": [
    {
     "data": {
      "text/plain": [
       "<matplotlib.legend.Legend at 0x7f0a72533978>"
      ]
     },
     "execution_count": 14,
     "metadata": {},
     "output_type": "execute_result"
    },
    {
     "data": {
      "image/png": "[encoded data removed]",
      "text/plain": [
       "<Figure size 432x288 with 1 Axes>"
      ]
     },
     "metadata": {
      "needs_background": "light"
     },
     "output_type": "display_data"
    }
   ],
   "source": [
    "x1 = [1, 2, 2, 3, 4, 4, 4, 4, 4, 5, 1]\n",
    "x2 = [1, 1, 1, 2, 2, 3, 3, 3, 3, 4, 5, 5, 5]\n",
    "bins = [x + 0.5 for x in range(0, 6)]\n",
    "plt.hist([x1, x2], bins = bins, color = ['yellow', 'green'],\n",
    "            edgecolor = 'red', hatch = '/', label = ['x1', 'x2'],\n",
    "            histtype = 'bar') # bar est le defaut\n",
    "plt.ylabel('valeurs')\n",
    "plt.xlabel('nombres')\n",
    "plt.title('Evaluation Accurracy')\n",
    "plt.legend()"
   ]
  },
  {
   "cell_type": "code",
   "execution_count": 10,
   "metadata": {},
   "outputs": [
    {
     "data": {
      "image/png": "[encoded data removed]",
      "text/plain": [
       "<Figure size 720x504 with 1 Axes>"
      ]
     },
     "metadata": {
      "needs_background": "light"
     },
     "output_type": "display_data"
    }
   ],
   "source": [
    "# data to plot\n",
    "n_groups = 4\n",
    "accuracy_MC = (86.5, 85.5, 57.1, 81.5)\n",
    "Precision_MC = (86.5, 85.5, 57.1, 81.5)\n",
    "Precision_BC = (98.6, 97.1, 99.9, 96.0)\n",
    "accuracy_BC = (97.94, 96.9, 65.1, 93.2)\n",
    "fpr = (1.62, 3.44, 0.005, 4.55)\n",
    "\n",
    "# create plot\n",
    "fig, ax = plt.subplots(figsize=(10,7))\n",
    "index = np.arange(n_groups)\n",
    "bar_width = 0.35\n",
    "opacity = 0.8\n",
    "\n",
    "rects1 = plt.bar(index, accuracy_MC, bar_width,\n",
    "alpha=opacity,\n",
    "color='b',\n",
    "label='multi-class classification')\n",
    "\n",
    "rects2 = plt.bar(index + bar_width, accuracy_BC, bar_width,\n",
    "alpha=opacity,\n",
    "color='g',\n",
    "label='Binary classification')\n",
    "\n",
    "plt.xlabel('Classifier')\n",
    "plt.ylabel('Accuracy')\n",
    "plt.title('Accuracy for Unsw-NB15')\n",
    "plt.xticks(index + bar_width, ('RF', 'DT', 'NB', 'KNN'))\n",
    "plt.legend()\n",
    "\n",
    "plt.tight_layout()\n",
    "plt.grid()\n"
   ]
  },
  {
   "cell_type": "code",
   "execution_count": 12,
   "metadata": {},
   "outputs": [
    {
     "data": {
      "image/png": "[encoded data removed]",
      "text/plain": [
       "<Figure size 720x504 with 1 Axes>"
      ]
     },
     "metadata": {
      "needs_background": "light"
     },
     "output_type": "display_data"
    }
   ],
   "source": [
    "# create plot\n",
    "fig, ax = plt.subplots(figsize=(10,7))\n",
    "index = np.arange(n_groups)\n",
    "bar_width = 0.35\n",
    "opacity = 0.8\n",
    "\n",
    "rects1 = plt.bar(index, Precision_MC, bar_width,\n",
    "alpha=opacity,\n",
    "color='b',\n",
    "label='multi-class classification')\n",
    "\n",
    "rects2 = plt.bar(index + bar_width, Precision_BC, bar_width,\n",
    "alpha=opacity,\n",
    "color='g',\n",
    "label='Binary classification')\n",
    "\n",
    "plt.xlabel('Classifier')\n",
    "plt.ylabel('Precision')\n",
    "plt.title('Precision for Unsw-NB15')\n",
    "plt.xticks(index + bar_width, ('RF', 'DT', 'NB', 'KNN'))\n",
    "plt.legend()\n",
    "\n",
    "plt.tight_layout()\n",
    "plt.grid()\n"
   ]
  },
  {
   "cell_type": "code",
   "execution_count": 28,
   "metadata": {},
   "outputs": [
    {
     "ename": "ValueError",
     "evalue": "shape mismatch: objects cannot be broadcast to a single shape",
     "output_type": "error",
     "traceback": [
      "\u001b[0;31m---------------------------------------------------------------------------\u001b[0m",
      "\u001b[0;31mValueError\u001b[0m                                Traceback (most recent call last)",
      "\u001b[0;32m<ipython-input-28-806e965a50e7>\u001b[0m in \u001b[0;36m<module>\u001b[0;34m\u001b[0m\n\u001b[1;32m      8\u001b[0m \u001b[0malpha\u001b[0m\u001b[0;34m=\u001b[0m\u001b[0mopacity\u001b[0m\u001b[0;34m,\u001b[0m\u001b[0;34m\u001b[0m\u001b[0;34m\u001b[0m\u001b[0m\n\u001b[1;32m      9\u001b[0m \u001b[0mcolor\u001b[0m\u001b[0;34m=\u001b[0m\u001b[0;34m'b'\u001b[0m\u001b[0;34m,\u001b[0m\u001b[0;34m\u001b[0m\u001b[0;34m\u001b[0m\u001b[0m\n\u001b[0;32m---> 10\u001b[0;31m label='multi-class classification')\n\u001b[0m\u001b[1;32m     11\u001b[0m \u001b[0;34m\u001b[0m\u001b[0m\n\u001b[1;32m     12\u001b[0m rects2 = plt.bar(index + bar_width, Precision_BC, bar_width,\n",
      "\u001b[0;32m~/.local/lib/python3.7/site-packages/matplotlib/pyplot.py\u001b[0m in \u001b[0;36mbar\u001b[0;34m(x, height, width, bottom, align, data, **kwargs)\u001b[0m\n\u001b[1;32m   2455\u001b[0m     return gca().bar(\n\u001b[1;32m   2456\u001b[0m         \u001b[0mx\u001b[0m\u001b[0;34m,\u001b[0m \u001b[0mheight\u001b[0m\u001b[0;34m,\u001b[0m \u001b[0mwidth\u001b[0m\u001b[0;34m=\u001b[0m\u001b[0mwidth\u001b[0m\u001b[0;34m,\u001b[0m \u001b[0mbottom\u001b[0m\u001b[0;34m=\u001b[0m\u001b[0mbottom\u001b[0m\u001b[0;34m,\u001b[0m \u001b[0malign\u001b[0m\u001b[0;34m=\u001b[0m\u001b[0malign\u001b[0m\u001b[0;34m,\u001b[0m\u001b[0;34m\u001b[0m\u001b[0;34m\u001b[0m\u001b[0m\n\u001b[0;32m-> 2457\u001b[0;31m         **({\"data\": data} if data is not None else {}), **kwargs)\n\u001b[0m\u001b[1;32m   2458\u001b[0m \u001b[0;34m\u001b[0m\u001b[0m\n\u001b[1;32m   2459\u001b[0m \u001b[0;34m\u001b[0m\u001b[0m\n",
      "\u001b[0;32m~/.local/lib/python3.7/site-packages/matplotlib/__init__.py\u001b[0m in \u001b[0;36minner\u001b[0;34m(ax, data, *args, **kwargs)\u001b[0m\n\u001b[1;32m   1808\u001b[0m                         \u001b[0;34m\"the Matplotlib list!)\"\u001b[0m \u001b[0;34m%\u001b[0m \u001b[0;34m(\u001b[0m\u001b[0mlabel_namer\u001b[0m\u001b[0;34m,\u001b[0m \u001b[0mfunc\u001b[0m\u001b[0;34m.\u001b[0m\u001b[0m__name__\u001b[0m\u001b[0;34m)\u001b[0m\u001b[0;34m,\u001b[0m\u001b[0;34m\u001b[0m\u001b[0;34m\u001b[0m\u001b[0m\n\u001b[1;32m   1809\u001b[0m                         RuntimeWarning, stacklevel=2)\n\u001b[0;32m-> 1810\u001b[0;31m             \u001b[0;32mreturn\u001b[0m \u001b[0mfunc\u001b[0m\u001b[0;34m(\u001b[0m\u001b[0max\u001b[0m\u001b[0;34m,\u001b[0m \u001b[0;34m*\u001b[0m\u001b[0margs\u001b[0m\u001b[0;34m,\u001b[0m \u001b[0;34m**\u001b[0m\u001b[0mkwargs\u001b[0m\u001b[0;34m)\u001b[0m\u001b[0;34m\u001b[0m\u001b[0;34m\u001b[0m\u001b[0m\n\u001b[0m\u001b[1;32m   1811\u001b[0m \u001b[0;34m\u001b[0m\u001b[0m\n\u001b[1;32m   1812\u001b[0m         inner.__doc__ = _add_data_doc(inner.__doc__,\n",
      "\u001b[0;32m~/.local/lib/python3.7/site-packages/matplotlib/axes/_axes.py\u001b[0m in \u001b[0;36mbar\u001b[0;34m(self, x, height, width, bottom, align, **kwargs)\u001b[0m\n\u001b[1;32m   2249\u001b[0m         x, height, width, y, linewidth = np.broadcast_arrays(\n\u001b[1;32m   2250\u001b[0m             \u001b[0;31m# Make args iterable too.\u001b[0m\u001b[0;34m\u001b[0m\u001b[0;34m\u001b[0m\u001b[0;34m\u001b[0m\u001b[0m\n\u001b[0;32m-> 2251\u001b[0;31m             np.atleast_1d(x), height, width, y, linewidth)\n\u001b[0m\u001b[1;32m   2252\u001b[0m \u001b[0;34m\u001b[0m\u001b[0m\n\u001b[1;32m   2253\u001b[0m         \u001b[0;31m# Now that units have been converted, set the tick locations.\u001b[0m\u001b[0;34m\u001b[0m\u001b[0;34m\u001b[0m\u001b[0;34m\u001b[0m\u001b[0m\n",
      "\u001b[0;32m/usr/local/lib/python3.7/site-packages/numpy/lib/stride_tricks.py\u001b[0m in \u001b[0;36mbroadcast_arrays\u001b[0;34m(*args, **kwargs)\u001b[0m\n\u001b[1;32m    257\u001b[0m     \u001b[0margs\u001b[0m \u001b[0;34m=\u001b[0m \u001b[0;34m[\u001b[0m\u001b[0mnp\u001b[0m\u001b[0;34m.\u001b[0m\u001b[0marray\u001b[0m\u001b[0;34m(\u001b[0m\u001b[0m_m\u001b[0m\u001b[0;34m,\u001b[0m \u001b[0mcopy\u001b[0m\u001b[0;34m=\u001b[0m\u001b[0;32mFalse\u001b[0m\u001b[0;34m,\u001b[0m \u001b[0msubok\u001b[0m\u001b[0;34m=\u001b[0m\u001b[0msubok\u001b[0m\u001b[0;34m)\u001b[0m \u001b[0;32mfor\u001b[0m \u001b[0m_m\u001b[0m \u001b[0;32min\u001b[0m \u001b[0margs\u001b[0m\u001b[0;34m]\u001b[0m\u001b[0;34m\u001b[0m\u001b[0;34m\u001b[0m\u001b[0m\n\u001b[1;32m    258\u001b[0m \u001b[0;34m\u001b[0m\u001b[0m\n\u001b[0;32m--> 259\u001b[0;31m     \u001b[0mshape\u001b[0m \u001b[0;34m=\u001b[0m \u001b[0m_broadcast_shape\u001b[0m\u001b[0;34m(\u001b[0m\u001b[0;34m*\u001b[0m\u001b[0margs\u001b[0m\u001b[0;34m)\u001b[0m\u001b[0;34m\u001b[0m\u001b[0;34m\u001b[0m\u001b[0m\n\u001b[0m\u001b[1;32m    260\u001b[0m \u001b[0;34m\u001b[0m\u001b[0m\n\u001b[1;32m    261\u001b[0m     \u001b[0;32mif\u001b[0m \u001b[0mall\u001b[0m\u001b[0;34m(\u001b[0m\u001b[0marray\u001b[0m\u001b[0;34m.\u001b[0m\u001b[0mshape\u001b[0m \u001b[0;34m==\u001b[0m \u001b[0mshape\u001b[0m \u001b[0;32mfor\u001b[0m \u001b[0marray\u001b[0m \u001b[0;32min\u001b[0m \u001b[0margs\u001b[0m\u001b[0;34m)\u001b[0m\u001b[0;34m:\u001b[0m\u001b[0;34m\u001b[0m\u001b[0;34m\u001b[0m\u001b[0m\n",
      "\u001b[0;32m/usr/local/lib/python3.7/site-packages/numpy/lib/stride_tricks.py\u001b[0m in \u001b[0;36m_broadcast_shape\u001b[0;34m(*args)\u001b[0m\n\u001b[1;32m    191\u001b[0m     \u001b[0;31m# use the old-iterator because np.nditer does not handle size 0 arrays\u001b[0m\u001b[0;34m\u001b[0m\u001b[0;34m\u001b[0m\u001b[0;34m\u001b[0m\u001b[0m\n\u001b[1;32m    192\u001b[0m     \u001b[0;31m# consistently\u001b[0m\u001b[0;34m\u001b[0m\u001b[0;34m\u001b[0m\u001b[0;34m\u001b[0m\u001b[0m\n\u001b[0;32m--> 193\u001b[0;31m     \u001b[0mb\u001b[0m \u001b[0;34m=\u001b[0m \u001b[0mnp\u001b[0m\u001b[0;34m.\u001b[0m\u001b[0mbroadcast\u001b[0m\u001b[0;34m(\u001b[0m\u001b[0;34m*\u001b[0m\u001b[0margs\u001b[0m\u001b[0;34m[\u001b[0m\u001b[0;34m:\u001b[0m\u001b[0;36m32\u001b[0m\u001b[0;34m]\u001b[0m\u001b[0;34m)\u001b[0m\u001b[0;34m\u001b[0m\u001b[0;34m\u001b[0m\u001b[0m\n\u001b[0m\u001b[1;32m    194\u001b[0m     \u001b[0;31m# unfortunately, it cannot handle 32 or more arguments directly\u001b[0m\u001b[0;34m\u001b[0m\u001b[0;34m\u001b[0m\u001b[0;34m\u001b[0m\u001b[0m\n\u001b[1;32m    195\u001b[0m     \u001b[0;32mfor\u001b[0m \u001b[0mpos\u001b[0m \u001b[0;32min\u001b[0m \u001b[0mrange\u001b[0m\u001b[0;34m(\u001b[0m\u001b[0;36m32\u001b[0m\u001b[0;34m,\u001b[0m \u001b[0mlen\u001b[0m\u001b[0;34m(\u001b[0m\u001b[0margs\u001b[0m\u001b[0;34m)\u001b[0m\u001b[0;34m,\u001b[0m \u001b[0;36m31\u001b[0m\u001b[0;34m)\u001b[0m\u001b[0;34m:\u001b[0m\u001b[0;34m\u001b[0m\u001b[0;34m\u001b[0m\u001b[0m\n",
      "\u001b[0;31mValueError\u001b[0m: shape mismatch: objects cannot be broadcast to a single shape"
     ]
    },
    {
     "data": {
      "image/png": "[encoded data removed]",
      "text/plain": [
       "<Figure size 720x504 with 1 Axes>"
      ]
     },
     "metadata": {
      "needs_background": "light"
     },
     "output_type": "display_data"
    }
   ],
   "source": [
    "# create plot\n",
    "fig, ax = plt.subplots(figsize=(10,7))\n",
    "index = np.arange(n_groups)\n",
    "bar_width = 0.35\n",
    "opacity = 0.8\n",
    "\n",
    "rects1 = plt.bar(index, Precision_MC, bar_width,\n",
    "alpha=opacity,\n",
    "color='b',\n",
    "label='multi-class classification')\n",
    "\n",
    "rects2 = plt.bar(index + bar_width, Precision_BC, bar_width,\n",
    "alpha=opacity,\n",
    "color='g',\n",
    "label='Binary classification')\n",
    "\n",
    "plt.xlabel('Classifier')\n",
    "plt.ylabel('Precision')\n",
    "plt.title('Precision for Unsw-NB15')\n",
    "plt.xticks(index + bar_width, ('RF', 'DT', 'NB', 'KNN'))\n",
    "plt.legend()\n",
    "\n",
    "plt.tight_layout()\n",
    "plt.grid()"
   ]
  },
  {
   "cell_type": "code",
   "execution_count": 18,
   "metadata": {},
   "outputs": [
    {
     "data": {
      "image/png": "[encoded data removed]",
      "text/plain": [
       "<Figure size 720x504 with 1 Axes>"
      ]
     },
     "metadata": {
      "needs_background": "light"
     },
     "output_type": "display_data"
    }
   ],
   "source": [
    "# data to plot\n",
    "n_groups = 10\n",
    "# create plot\n",
    "fig, ax = plt.subplots(figsize=(10,7))\n",
    "index = np.arange(n_groups)\n",
    "bar_width = 0.15\n",
    "opacity = 0.8\n",
    "precision_soe_RF=[0.4  ,      1.   ,      0.36170213, 0.6307815 , 0.6655348  ,0.99782016,\n",
    " 0.95694154, 0.91638796, 0.51515152, 0.        ]\n",
    "\n",
    "precision_soe_DT=[1. ,        0.2 ,       0.39311594, 0.63818182, 0.64677419, 0.98194371,\n",
    " 0.9656013 , 0.87538941, 0.38636364, 0.5       ]\n",
    "precision_soe_KNN=[0.05 ,      0. ,        0.38987342, 0.60611065 ,0.50490196 ,0.99560922,\n",
    " 0.88053856 ,0.70774648 ,0.33333333 ,0.        ]\n",
    "\n",
    "precision_soe_NB=[0.07159905, 0.   ,      0.33333333, 0.96666667, 0.     ,    0.91687785,\n",
    " 0.77734266 ,0.04415584, 0.02852853 ,0.00902935]\n",
    "rects1 = plt.bar(index, precision_soe_RF, bar_width,\n",
    "alpha=opacity,\n",
    "color='b',\n",
    "label='RF')\n",
    "\n",
    "#rects2 = plt.bar(index + bar_width, precision_score_SVM, bar_width,\n",
    "#alpha=opacity,\n",
    "#color='g',\n",
    "#label='SVM')\n",
    "\n",
    "rects3 = plt.bar(index+ bar_width, precision_soe_DT, bar_width,\n",
    "alpha=opacity,\n",
    "color='c',\n",
    "label='DT')\n",
    "\n",
    "rects4 = plt.bar(index + 2*bar_width, precision_soe_KNN, bar_width,\n",
    "alpha=opacity,\n",
    "color='r',\n",
    "label='KNN')\n",
    "\n",
    "rects5 = plt.bar(index+ 3*bar_width, precision_soe_NB, bar_width,\n",
    "alpha=opacity,\n",
    "color='y',\n",
    "label='NB')\n",
    "\n",
    "\n",
    "\n",
    "plt.xlabel('Classes')\n",
    "plt.ylabel('Precision')\n",
    "plt.title('Precision by classes for UNSW-NB15')\n",
    "plt.xticks(index + bar_width, ('Analysis','Backdoor', 'DoS', 'Exploits', 'Fuzzers','Generic', 'Normal', 'Reconnaissance', 'Shellcode','Worms'),rotation='15')\n",
    "plt.legend()\n",
    "\n",
    "plt.tight_layout()\n",
    "plt.grid()"
   ]
  },
  {
   "cell_type": "code",
   "execution_count": null,
   "metadata": {},
   "outputs": [],
   "source": []
  }
 ],
 "metadata": {
  "kernelspec": {
   "display_name": "Python 3",
   "language": "python",
   "name": "python3"
  },
  "language_info": {
   "codemirror_mode": {
    "name": "ipython",
    "version": 3
   },
   "file_extension": ".py",
   "mimetype": "text/x-python",
   "name": "python",
   "nbconvert_exporter": "python",
   "pygments_lexer": "ipython3",
   "version": "3.7.3"
  }
 },
 "nbformat": 4,
 "nbformat_minor": 2
}
