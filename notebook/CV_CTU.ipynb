{
 "cells": [
  {
   "cell_type": "code",
   "execution_count": 2,
   "metadata": {},
   "outputs": [
    {
     "name": "stdout",
     "output_type": "stream",
     "text": [
      "20151201.txt\r\n",
      "20151208.txt\r\n",
      "capture20110815-3.binetflow\r\n",
      "classification_CV.ipynb\r\n",
      "classification.ipynb\r\n",
      "\u001b[0m\u001b[01;34mCSV_CICIDS\u001b[0m/\r\n",
      "CV_CICIDS.ipynb\r\n",
      "CV_CTU.ipynb\r\n",
      "CV.ipynb\r\n",
      "CV_NSL.ipynb\r\n",
      "Friday-02-03-2018_TrafficForML_CICFlowMeter.csv\r\n",
      "\u001b[01;32mFridayCICIDS.csv\u001b[0m*\r\n",
      "\u001b[01;32mFriday-WorkingHours-Morning.pcap_ISCX.csv\u001b[0m*\r\n",
      "KDD_Classification.ipynb\r\n",
      "kddcup_corrected.csv\r\n",
      "kddcup.data.corrected.csv\r\n",
      "KDDTrain+.csv\r\n",
      "NUSW-NB15_features.csv\r\n",
      "RNN.ipynb\r\n",
      "UNSW-NB15.csv\r\n",
      "UNSW_NB15_testing-set.csv\r\n",
      "UNSW_NB15_training-set.csv\r\n",
      "UNSW_NB15_training-set_selected.csv\r\n",
      "Untitled1.ipynb\r\n",
      "Untitled.ipynb\r\n",
      "\u001b[01;32mWednesday-workingHours.pcap_ISCX.csv\u001b[0m*\r\n"
     ]
    }
   ],
   "source": [
    "ls\n"
   ]
  },
  {
   "cell_type": "code",
   "execution_count": 3,
   "metadata": {},
   "outputs": [],
   "source": [
    "import pandas as pd\n",
    "import numpy as np\n",
    "import sklearn.metrics as sm\n",
    "import matplotlib.pyplot as plt\n",
    "from sklearn.cluster import KMeans\n",
    "from collections import Counter\n",
    "from sklearn.decomposition import PCA\n",
    "from sklearn.preprocessing import LabelEncoder,StandardScaler\n",
    "from mpl_toolkits.mplot3d import Axes3D\n",
    "from sklearn import metrics\n",
    "from sklearn.model_selection import train_test_split\n",
    "import time\n",
    "from glob import glob"
   ]
  },
  {
   "cell_type": "code",
   "execution_count": 4,
   "metadata": {},
   "outputs": [
    {
     "data": {
      "text/html": [
       "<div>\n",
       "<style scoped>\n",
       "    .dataframe tbody tr th:only-of-type {\n",
       "        vertical-align: middle;\n",
       "    }\n",
       "\n",
       "    .dataframe tbody tr th {\n",
       "        vertical-align: top;\n",
       "    }\n",
       "\n",
       "    .dataframe thead th {\n",
       "        text-align: right;\n",
       "    }\n",
       "</style>\n",
       "<table border=\"1\" class=\"dataframe\">\n",
       "  <thead>\n",
       "    <tr style=\"text-align: right;\">\n",
       "      <th></th>\n",
       "      <th>StartTime</th>\n",
       "      <th>Dur</th>\n",
       "      <th>Proto</th>\n",
       "      <th>SrcAddr</th>\n",
       "      <th>Sport</th>\n",
       "      <th>Dir</th>\n",
       "      <th>DstAddr</th>\n",
       "      <th>Dport</th>\n",
       "      <th>State</th>\n",
       "      <th>sTos</th>\n",
       "      <th>dTos</th>\n",
       "      <th>TotPkts</th>\n",
       "      <th>TotBytes</th>\n",
       "      <th>SrcBytes</th>\n",
       "      <th>Label</th>\n",
       "    </tr>\n",
       "  </thead>\n",
       "  <tbody>\n",
       "    <tr>\n",
       "      <th>0</th>\n",
       "      <td>2011/08/15 17:13:51.499832</td>\n",
       "      <td>5.170088</td>\n",
       "      <td>tcp</td>\n",
       "      <td>2.157.248.25</td>\n",
       "      <td>3146</td>\n",
       "      <td>-&gt;</td>\n",
       "      <td>147.32.84.118</td>\n",
       "      <td>6881</td>\n",
       "      <td>S_RA</td>\n",
       "      <td>0.0</td>\n",
       "      <td>0.0</td>\n",
       "      <td>4</td>\n",
       "      <td>252</td>\n",
       "      <td>132</td>\n",
       "      <td>flow=Background-TCP-Attempt</td>\n",
       "    </tr>\n",
       "    <tr>\n",
       "      <th>1</th>\n",
       "      <td>2011/08/15 17:15:33.511251</td>\n",
       "      <td>6.609413</td>\n",
       "      <td>tcp</td>\n",
       "      <td>148.100.181.73</td>\n",
       "      <td>51668</td>\n",
       "      <td>-&gt;</td>\n",
       "      <td>147.32.84.118</td>\n",
       "      <td>6881</td>\n",
       "      <td>S_RA</td>\n",
       "      <td>0.0</td>\n",
       "      <td>0.0</td>\n",
       "      <td>4</td>\n",
       "      <td>252</td>\n",
       "      <td>132</td>\n",
       "      <td>flow=Background-TCP-Attempt</td>\n",
       "    </tr>\n",
       "    <tr>\n",
       "      <th>2</th>\n",
       "      <td>2011/08/15 17:20:00.189787</td>\n",
       "      <td>1.797185</td>\n",
       "      <td>tcp</td>\n",
       "      <td>61.177.250.153</td>\n",
       "      <td>7212</td>\n",
       "      <td>-&gt;</td>\n",
       "      <td>147.32.84.40</td>\n",
       "      <td>4899</td>\n",
       "      <td>S_RA</td>\n",
       "      <td>0.0</td>\n",
       "      <td>0.0</td>\n",
       "      <td>4</td>\n",
       "      <td>244</td>\n",
       "      <td>124</td>\n",
       "      <td>flow=Background-TCP-Attempt</td>\n",
       "    </tr>\n",
       "    <tr>\n",
       "      <th>3</th>\n",
       "      <td>2011/08/15 17:20:30.302882</td>\n",
       "      <td>1.959935</td>\n",
       "      <td>tcp</td>\n",
       "      <td>92.241.212.170</td>\n",
       "      <td>49530</td>\n",
       "      <td>-&gt;</td>\n",
       "      <td>147.32.84.229</td>\n",
       "      <td>13363</td>\n",
       "      <td>SR_SA</td>\n",
       "      <td>0.0</td>\n",
       "      <td>0.0</td>\n",
       "      <td>5</td>\n",
       "      <td>360</td>\n",
       "      <td>216</td>\n",
       "      <td>flow=Background-TCP-Established</td>\n",
       "    </tr>\n",
       "    <tr>\n",
       "      <th>4</th>\n",
       "      <td>2011/08/15 17:20:32.262817</td>\n",
       "      <td>1.016078</td>\n",
       "      <td>tcp</td>\n",
       "      <td>92.241.212.170</td>\n",
       "      <td>49530</td>\n",
       "      <td>-&gt;</td>\n",
       "      <td>147.32.84.229</td>\n",
       "      <td>13363</td>\n",
       "      <td>SR_SA</td>\n",
       "      <td>0.0</td>\n",
       "      <td>0.0</td>\n",
       "      <td>3</td>\n",
       "      <td>216</td>\n",
       "      <td>138</td>\n",
       "      <td>flow=Background-TCP-Established</td>\n",
       "    </tr>\n",
       "  </tbody>\n",
       "</table>\n",
       "</div>"
      ],
      "text/plain": [
       "                    StartTime       Dur Proto         SrcAddr  Sport    Dir  \\\n",
       "0  2011/08/15 17:13:51.499832  5.170088   tcp    2.157.248.25   3146     ->   \n",
       "1  2011/08/15 17:15:33.511251  6.609413   tcp  148.100.181.73  51668     ->   \n",
       "2  2011/08/15 17:20:00.189787  1.797185   tcp  61.177.250.153   7212     ->   \n",
       "3  2011/08/15 17:20:30.302882  1.959935   tcp  92.241.212.170  49530     ->   \n",
       "4  2011/08/15 17:20:32.262817  1.016078   tcp  92.241.212.170  49530     ->   \n",
       "\n",
       "         DstAddr  Dport  State  sTos  dTos  TotPkts  TotBytes  SrcBytes  \\\n",
       "0  147.32.84.118   6881   S_RA   0.0   0.0        4       252       132   \n",
       "1  147.32.84.118   6881   S_RA   0.0   0.0        4       252       132   \n",
       "2   147.32.84.40   4899   S_RA   0.0   0.0        4       244       124   \n",
       "3  147.32.84.229  13363  SR_SA   0.0   0.0        5       360       216   \n",
       "4  147.32.84.229  13363  SR_SA   0.0   0.0        3       216       138   \n",
       "\n",
       "                             Label  \n",
       "0      flow=Background-TCP-Attempt  \n",
       "1      flow=Background-TCP-Attempt  \n",
       "2      flow=Background-TCP-Attempt  \n",
       "3  flow=Background-TCP-Established  \n",
       "4  flow=Background-TCP-Established  "
      ]
     },
     "execution_count": 4,
     "metadata": {},
     "output_type": "execute_result"
    }
   ],
   "source": [
    "def train_split(data):\n",
    "    X_train=data.drop(['Label'], axis=1)\n",
    "    y_train=data['Label']\n",
    "    X_train, X_test, Y_train, Y_test = train_test_split(X_train, y_train, test_size=0.1)\n",
    "    return X_test,Y_test\n",
    "\n",
    "data = pd.read_csv(\"./capture20110815-3.binetflow\")\n",
    "data.head()"
   ]
  },
  {
   "cell_type": "code",
   "execution_count": 5,
   "metadata": {},
   "outputs": [
    {
     "name": "stdout",
     "output_type": "stream",
     "text": [
      "Counter({'flow=To-Background-UDP-CVUT-DNS-Server': 75611, 'flow=Background-UDP-Established': 67821, 'flow=Background-TCP-Established': 21546, 'flow=Background': 4591, 'flow=Background-Established-cmpgw-CVUT': 4356, 'flow=Background-UDP-Attempt': 4212, 'flow=Background-TCP-Attempt': 3973, 'flow=From-Normal-V54-Stribrek': 2741, 'flow=From-Botnet-V54-TCP-Attempt': 2322, 'flow=From-Botnet-V54-UDP-DNS': 775, 'flow=To-Background-CVUT-Proxy': 757, 'flow=To-Background-CVUT-WebServer': 687, 'flow=From-Botnet-V54-TCP-Attempt-SPAM': 682, 'flow=Background-UDP-NTP-Established-1': 568, 'flow=From-Normal-V54-Grill': 340, 'flow=Background-Attempt-cmpgw-CVUT': 303, 'flow=To-Background-MatLab-Server': 238, 'flow=From-Normal-V54-Jist': 93, 'flow=Background-google-pop': 74, 'flow=From-Botnet-V54-TCP-Not-Encrypted-SMTP-Private-Proxy-1': 63, 'flow=From-Background-CVUT-Proxy': 55, 'flow=Background-google-webmail': 50, 'flow=From-Normal-V54-CVUT-WebServer': 50, 'flow=From-Botnet-V54-TCP-WEB-Established': 45, 'flow=From-Botnet-V54-TCP-CC16-HTTP-Not-Encrypted': 42, 'flow=From-Botnet-V54-TCP-WEB-Established-SSL': 36, 'flow=From-Botnet-V54-TCP-Established-HTTP-Ad-30': 29, 'flow=Background-google-analytics5': 27, 'flow=Background-google-analytics16': 26, 'flow=Background-google-analytics8': 25, 'flow=From-Botnet-V54-TCP-Established-SPAM': 24, 'flow=Background-google-analytics6': 19, 'flow=From-Botnet-V54-TCP-Established-HTTP-Ad-1': 18, 'flow=Background-google-analytics10': 17, 'flow=Background-google-analytics9': 17, 'flow=Background-google-analytics7': 16, 'flow=Background-google-analytics13': 16, 'flow=Background-google-analytics3': 15, 'flow=Background-google-analytics11': 15, 'flow=Background-google-analytics12': 14, 'flow=To-Normal-V54-UDP-NTP-server': 13, 'flow=Background-google-analytics14': 13, 'flow=Background-google-analytics15': 13, 'flow=Background-google-analytics4': 12, 'flow=From-Botnet-V54-TCP-Established-HTTP-Ad-37': 12, 'flow=From-Botnet-V54-TCP-Established-HTTP-Ad-10': 9, 'flow=From-Botnet-V54-TCP-Established-HTTP-Ad-yieldmanager-9': 9, 'flow=Background-google-analytics2': 9, 'flow=To-Background-Grill': 8, 'flow=From-Botnet-V54-TCP-Established-HTTP-Ad-40': 7, 'flow=To-Background-Stribrek': 7, 'flow=From-Botnet-V54-TCP-Established-HTTP-Ad-32': 6, 'flow=Background-www.fel.cvut.cz': 6, 'flow=From-Botnet-V54-TCP-Established-SSL-To-Microsoft-4': 5, 'flow=From-Botnet-V54-TCP-Established-HTTP-Ad-44': 5, 'flow=Background-google-analytics1': 5, 'flow=From-Botnet-V54-TCP-Established-HTTP-Ad-21': 4, 'flow=From-Botnet-V54-TCP-Established-HTTP-Ad-25': 4, 'flow=From-Botnet-V54-TCP-CC6-Plain-HTTP-Encrypted-Data': 4, 'flow=From-Botnet-V54-TCP-Established-SSL-To-Microsoft-1': 4, 'flow=Background-ajax.google': 4, 'flow=From-Botnet-V54-TCP-CC1-HTTP-Not-Encrypted': 3, 'flow=From-Botnet-V54-TCP-Established-SSL-To-Microsoft-5': 3, 'flow=From-Botnet-V54-TCP-HTTP-Google-Net-Established-6': 2, 'flow=From-Botnet-V54-TCP-CC5-Plain-HTTP-Encrypted-Data': 2, 'flow=From-Botnet-V54-TCP-Established-HTTP-Ad-51': 2, 'flow=From-Botnet-V54-TCP-Established-HTTP-Ad-28': 2, 'flow=From-Botnet-V54-TCP-Established-HTTP-Ad-55': 2, 'flow=From-Botnet-V54-TCP-Established-HTTP-Ad-23': 2, 'flow=From-Botnet-V54-TCP-Established-HTTP-Ad-34': 2, 'flow=From-Botnet-V54-TCP-CC12-HTTP-Not-Encrypted': 2, 'flow=From-Botnet-V54-TCP-Established-SSL-To-Microsoft-3': 2, 'flow=From-Botnet-V54-TCP-Established-HTTP-Ad-42': 2, 'flow=From-Botnet-V54-TCP-Established-HTTP-Ad-yieldmanager-8': 1, 'flow=To-Background-Jist': 1, 'flow=From-Botnet-V54-TCP-Established-HTTP-Binary-Download-Custom-Port-6': 1, 'flow=From-Normal-V54-MatLab-Server': 1, 'flow=From-Botnet-V54-TCP-Established-HTTP-Ad-48': 1, 'flow=From-Botnet-V54-TCP-Established-HTTP-Ad-61': 1, 'flow=From-Botnet-V54-TCP-Established-HTTP-Ad-45': 1, 'flow=From-Botnet-V54-ICMP': 1, 'flow=Normal-V54-HTTP-windowsupdate': 1, 'flow=From-Botnet-V54-TCP-Established-HTTP-Ad-7': 1, 'flow=From-Botnet-V54-TCP-Established-HTTP-Ad-12': 1, 'flow=From-Botnet-V54-TCP-Established-HTTP-Ad-53': 1, 'flow=From-Botnet-V54-TCP-Established-HTTP-Ad-63': 1, 'flow=From-Botnet-V54-TCP-Established-HTTP-Ad-3': 1, 'flow=From-Botnet-V54-TCP-Established-HTTP-Ad-52': 1, 'flow=From-Botnet-V54-TCP-Established': 1, 'flow=From-Botnet-V54-TCP-Established-HTTP-Adobe-4': 1, 'flow=From-Botnet-V54-TCP-CC7-Custom-Encryption': 1, 'flow=From-Botnet-V54-TCP-Established-HTTP-Binary-Download-9': 1, 'flow=From-Botnet-V54-TCP-Established-SSL-To-Microsoft-7': 1, 'flow=From-Botnet-V54-TCP-Established-HTTP-Ad-57': 1})\n"
     ]
    }
   ],
   "source": [
    "\n",
    "    \n",
    "X_train,Y_train = train_split(data)\n",
    "#X_test,Y_test = train_split(data_test)\n",
    "\n",
    "#print(Counter(Y))\n",
    "\n",
    "#\n",
    "\n",
    "print(Counter(Y_train))\n",
    "#print(Counter(Y_test))"
   ]
  },
  {
   "cell_type": "code",
   "execution_count": 31,
   "metadata": {},
   "outputs": [
    {
     "name": "stdout",
     "output_type": "stream",
     "text": [
      "Counter({0: 188366, 1: 4149})\n"
     ]
    }
   ],
   "source": [
    "#print(Y_train)\n",
    "Y_train=Y_train.replace(to_replace=['\\**Background*','\\**Normal*'], value=0, regex=True)\n",
    "Y_train=Y_train.replace(to_replace=['\\**Botnet*'], value=1, regex=True)\n",
    "print(Counter(Y_train))"
   ]
  },
  {
   "cell_type": "code",
   "execution_count": null,
   "metadata": {},
   "outputs": [],
   "source": []
  }
 ],
 "metadata": {
  "kernelspec": {
   "display_name": "Python 3",
   "language": "python",
   "name": "python3"
  },
  "language_info": {
   "codemirror_mode": {
    "name": "ipython",
    "version": 3
   },
   "file_extension": ".py",
   "mimetype": "text/x-python",
   "name": "python",
   "nbconvert_exporter": "python",
   "pygments_lexer": "ipython3",
   "version": "3.7.3"
  }
 },
 "nbformat": 4,
 "nbformat_minor": 2
}
